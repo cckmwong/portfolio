{
 "cells": [
  {
   "cell_type": "code",
   "execution_count": 1,
   "id": "ac52b254-ca7a-4d12-baad-554d83d7a6e1",
   "metadata": {},
   "outputs": [],
   "source": [
    "import pandas as pd\n",
    "data = pd.read_excel(\"https://github.com/cckmwong/portfolio/raw/main/dataset/regression_data.xlsx\") #read the excel file"
   ]
  },
  {
   "cell_type": "code",
   "execution_count": 115,
   "id": "09def7a8-cd69-4a14-b563-1f9bc49a78e3",
   "metadata": {},
   "outputs": [
    {
     "data": {
      "text/html": [
       "<div>\n",
       "<style scoped>\n",
       "    .dataframe tbody tr th:only-of-type {\n",
       "        vertical-align: middle;\n",
       "    }\n",
       "\n",
       "    .dataframe tbody tr th {\n",
       "        vertical-align: top;\n",
       "    }\n",
       "\n",
       "    .dataframe thead th {\n",
       "        text-align: right;\n",
       "    }\n",
       "</style>\n",
       "<table border=\"1\" class=\"dataframe\">\n",
       "  <thead>\n",
       "    <tr style=\"text-align: right;\">\n",
       "      <th></th>\n",
       "      <th>URN</th>\n",
       "      <th>SCHNAME</th>\n",
       "      <th>GENDER</th>\n",
       "      <th>OFSTEDRATING</th>\n",
       "      <th>KS4_Avg</th>\n",
       "      <th>KS4_Disadvantaged</th>\n",
       "      <th>KS4_EAL</th>\n",
       "    </tr>\n",
       "  </thead>\n",
       "  <tbody>\n",
       "    <tr>\n",
       "      <th>0</th>\n",
       "      <td>100008</td>\n",
       "      <td>Argyle Primary School</td>\n",
       "      <td>Mixed</td>\n",
       "      <td>Good</td>\n",
       "      <td>0.0</td>\n",
       "      <td>NaN</td>\n",
       "      <td>NaN</td>\n",
       "    </tr>\n",
       "    <tr>\n",
       "      <th>1</th>\n",
       "      <td>100009</td>\n",
       "      <td>West Hampstead Primary School</td>\n",
       "      <td>Mixed</td>\n",
       "      <td>Good</td>\n",
       "      <td>0.0</td>\n",
       "      <td>NaN</td>\n",
       "      <td>NaN</td>\n",
       "    </tr>\n",
       "    <tr>\n",
       "      <th>2</th>\n",
       "      <td>100010</td>\n",
       "      <td>Brecknock Primary School</td>\n",
       "      <td>Mixed</td>\n",
       "      <td>Good</td>\n",
       "      <td>0.0</td>\n",
       "      <td>NaN</td>\n",
       "      <td>NaN</td>\n",
       "    </tr>\n",
       "    <tr>\n",
       "      <th>3</th>\n",
       "      <td>100011</td>\n",
       "      <td>Brookfield Primary School</td>\n",
       "      <td>Mixed</td>\n",
       "      <td>Good</td>\n",
       "      <td>0.0</td>\n",
       "      <td>NaN</td>\n",
       "      <td>NaN</td>\n",
       "    </tr>\n",
       "    <tr>\n",
       "      <th>4</th>\n",
       "      <td>100013</td>\n",
       "      <td>Edith Neville Primary School</td>\n",
       "      <td>Mixed</td>\n",
       "      <td>Good</td>\n",
       "      <td>0.0</td>\n",
       "      <td>NaN</td>\n",
       "      <td>NaN</td>\n",
       "    </tr>\n",
       "    <tr>\n",
       "      <th>...</th>\n",
       "      <td>...</td>\n",
       "      <td>...</td>\n",
       "      <td>...</td>\n",
       "      <td>...</td>\n",
       "      <td>...</td>\n",
       "      <td>...</td>\n",
       "      <td>...</td>\n",
       "    </tr>\n",
       "    <tr>\n",
       "      <th>20794</th>\n",
       "      <td>123512</td>\n",
       "      <td>West Felton CofE Primary School</td>\n",
       "      <td>Mixed</td>\n",
       "      <td>Good</td>\n",
       "      <td>0.0</td>\n",
       "      <td>NaN</td>\n",
       "      <td>NaN</td>\n",
       "    </tr>\n",
       "    <tr>\n",
       "      <th>20795</th>\n",
       "      <td>123513</td>\n",
       "      <td>Weston Lullingfields CofE School</td>\n",
       "      <td>Mixed</td>\n",
       "      <td>Good</td>\n",
       "      <td>0.0</td>\n",
       "      <td>NaN</td>\n",
       "      <td>NaN</td>\n",
       "    </tr>\n",
       "    <tr>\n",
       "      <th>20796</th>\n",
       "      <td>123517</td>\n",
       "      <td>Wistanstow CofE Primary School</td>\n",
       "      <td>Mixed</td>\n",
       "      <td>Good</td>\n",
       "      <td>0.0</td>\n",
       "      <td>NaN</td>\n",
       "      <td>NaN</td>\n",
       "    </tr>\n",
       "    <tr>\n",
       "      <th>20797</th>\n",
       "      <td>123518</td>\n",
       "      <td>Long Mountain CofE Primary School</td>\n",
       "      <td>Mixed</td>\n",
       "      <td>Requires improvement</td>\n",
       "      <td>0.0</td>\n",
       "      <td>NaN</td>\n",
       "      <td>NaN</td>\n",
       "    </tr>\n",
       "    <tr>\n",
       "      <th>20798</th>\n",
       "      <td>123519</td>\n",
       "      <td>Stiperstones CofE Primary School</td>\n",
       "      <td>Mixed</td>\n",
       "      <td>Good</td>\n",
       "      <td>0.0</td>\n",
       "      <td>NaN</td>\n",
       "      <td>NaN</td>\n",
       "    </tr>\n",
       "  </tbody>\n",
       "</table>\n",
       "<p>20799 rows × 7 columns</p>\n",
       "</div>"
      ],
      "text/plain": [
       "          URN                            SCHNAME GENDER          OFSTEDRATING  \\\n",
       "0      100008              Argyle Primary School  Mixed                  Good   \n",
       "1      100009      West Hampstead Primary School  Mixed                  Good   \n",
       "2      100010           Brecknock Primary School  Mixed                  Good   \n",
       "3      100011          Brookfield Primary School  Mixed                  Good   \n",
       "4      100013       Edith Neville Primary School  Mixed                  Good   \n",
       "...       ...                                ...    ...                   ...   \n",
       "20794  123512    West Felton CofE Primary School  Mixed                  Good   \n",
       "20795  123513   Weston Lullingfields CofE School  Mixed                  Good   \n",
       "20796  123517     Wistanstow CofE Primary School  Mixed                  Good   \n",
       "20797  123518  Long Mountain CofE Primary School  Mixed  Requires improvement   \n",
       "20798  123519   Stiperstones CofE Primary School  Mixed                  Good   \n",
       "\n",
       "       KS4_Avg KS4_Disadvantaged KS4_EAL  \n",
       "0          0.0               NaN     NaN  \n",
       "1          0.0               NaN     NaN  \n",
       "2          0.0               NaN     NaN  \n",
       "3          0.0               NaN     NaN  \n",
       "4          0.0               NaN     NaN  \n",
       "...        ...               ...     ...  \n",
       "20794      0.0               NaN     NaN  \n",
       "20795      0.0               NaN     NaN  \n",
       "20796      0.0               NaN     NaN  \n",
       "20797      0.0               NaN     NaN  \n",
       "20798      0.0               NaN     NaN  \n",
       "\n",
       "[20799 rows x 7 columns]"
      ]
     },
     "execution_count": 115,
     "metadata": {},
     "output_type": "execute_result"
    }
   ],
   "source": [
    "df = data[[\"URN\", \"SCHNAME\", \"GENDER\", \"OFSTEDRATING\", \"KS4_Avg\", \"KS4_Disadvantaged\", \"KS4_EAL\"]] #extract useful columns as the dataset\n",
    "df"
   ]
  },
  {
   "cell_type": "code",
   "execution_count": 116,
   "id": "6f0f2427-e59a-4945-818b-4018a77bf61e",
   "metadata": {},
   "outputs": [
    {
     "data": {
      "text/html": [
       "<div>\n",
       "<style scoped>\n",
       "    .dataframe tbody tr th:only-of-type {\n",
       "        vertical-align: middle;\n",
       "    }\n",
       "\n",
       "    .dataframe tbody tr th {\n",
       "        vertical-align: top;\n",
       "    }\n",
       "\n",
       "    .dataframe thead th {\n",
       "        text-align: right;\n",
       "    }\n",
       "</style>\n",
       "<table border=\"1\" class=\"dataframe\">\n",
       "  <thead>\n",
       "    <tr style=\"text-align: right;\">\n",
       "      <th></th>\n",
       "      <th>URN</th>\n",
       "      <th>SCHNAME</th>\n",
       "      <th>Gender</th>\n",
       "      <th>Ofsted</th>\n",
       "      <th>KS4_Avg</th>\n",
       "      <th>KS4_Disadvantaged</th>\n",
       "      <th>KS4_EAL</th>\n",
       "    </tr>\n",
       "  </thead>\n",
       "  <tbody>\n",
       "    <tr>\n",
       "      <th>35</th>\n",
       "      <td>100049</td>\n",
       "      <td>Haverstock School</td>\n",
       "      <td>Mixed</td>\n",
       "      <td>Good</td>\n",
       "      <td>42.566667</td>\n",
       "      <td>0.63</td>\n",
       "      <td>0.7</td>\n",
       "    </tr>\n",
       "    <tr>\n",
       "      <th>36</th>\n",
       "      <td>100050</td>\n",
       "      <td>Parliament Hill School</td>\n",
       "      <td>Girls</td>\n",
       "      <td>Good</td>\n",
       "      <td>60.766667</td>\n",
       "      <td>0.39</td>\n",
       "      <td>0.36</td>\n",
       "    </tr>\n",
       "    <tr>\n",
       "      <th>37</th>\n",
       "      <td>100051</td>\n",
       "      <td>Regent High School</td>\n",
       "      <td>Mixed</td>\n",
       "      <td>Good</td>\n",
       "      <td>42.600000</td>\n",
       "      <td>0.72</td>\n",
       "      <td>0.87</td>\n",
       "    </tr>\n",
       "    <tr>\n",
       "      <th>38</th>\n",
       "      <td>100052</td>\n",
       "      <td>Hampstead School</td>\n",
       "      <td>Mixed</td>\n",
       "      <td>Good</td>\n",
       "      <td>38.300000</td>\n",
       "      <td>0.45</td>\n",
       "      <td>0.39</td>\n",
       "    </tr>\n",
       "    <tr>\n",
       "      <th>39</th>\n",
       "      <td>100053</td>\n",
       "      <td>Acland Burghley School</td>\n",
       "      <td>Mixed</td>\n",
       "      <td>Good</td>\n",
       "      <td>43.766667</td>\n",
       "      <td>0.42</td>\n",
       "      <td>0.29</td>\n",
       "    </tr>\n",
       "    <tr>\n",
       "      <th>...</th>\n",
       "      <td>...</td>\n",
       "      <td>...</td>\n",
       "      <td>...</td>\n",
       "      <td>...</td>\n",
       "      <td>...</td>\n",
       "      <td>...</td>\n",
       "      <td>...</td>\n",
       "    </tr>\n",
       "    <tr>\n",
       "      <th>20547</th>\n",
       "      <td>144766</td>\n",
       "      <td>Ron Dearing UTC</td>\n",
       "      <td>Mixed</td>\n",
       "      <td>Outstanding</td>\n",
       "      <td>37.066667</td>\n",
       "      <td>0.19</td>\n",
       "      <td>0.06</td>\n",
       "    </tr>\n",
       "    <tr>\n",
       "      <th>20548</th>\n",
       "      <td>144768</td>\n",
       "      <td>The Suthers School</td>\n",
       "      <td>Mixed</td>\n",
       "      <td>Requires improvement</td>\n",
       "      <td>39.700000</td>\n",
       "      <td>0.23</td>\n",
       "      <td>0.05</td>\n",
       "    </tr>\n",
       "    <tr>\n",
       "      <th>20550</th>\n",
       "      <td>144773</td>\n",
       "      <td>Lawn Manor Academy</td>\n",
       "      <td>Mixed</td>\n",
       "      <td>Requires improvement</td>\n",
       "      <td>25.200000</td>\n",
       "      <td>0.37</td>\n",
       "      <td>0.37</td>\n",
       "    </tr>\n",
       "    <tr>\n",
       "      <th>20589</th>\n",
       "      <td>122854</td>\n",
       "      <td>Chilwell School</td>\n",
       "      <td>Mixed</td>\n",
       "      <td>Good</td>\n",
       "      <td>38.766667</td>\n",
       "      <td>0.18</td>\n",
       "      <td>0.17</td>\n",
       "    </tr>\n",
       "    <tr>\n",
       "      <th>20710</th>\n",
       "      <td>123236</td>\n",
       "      <td>Carterton Community College</td>\n",
       "      <td>Mixed</td>\n",
       "      <td>Good</td>\n",
       "      <td>25.366667</td>\n",
       "      <td>0.2</td>\n",
       "      <td>0.05</td>\n",
       "    </tr>\n",
       "  </tbody>\n",
       "</table>\n",
       "<p>3387 rows × 7 columns</p>\n",
       "</div>"
      ],
      "text/plain": [
       "          URN                      SCHNAME Gender                Ofsted  \\\n",
       "35     100049            Haverstock School  Mixed                  Good   \n",
       "36     100050       Parliament Hill School  Girls                  Good   \n",
       "37     100051           Regent High School  Mixed                  Good   \n",
       "38     100052             Hampstead School  Mixed                  Good   \n",
       "39     100053       Acland Burghley School  Mixed                  Good   \n",
       "...       ...                          ...    ...                   ...   \n",
       "20547  144766              Ron Dearing UTC  Mixed           Outstanding   \n",
       "20548  144768           The Suthers School  Mixed  Requires improvement   \n",
       "20550  144773           Lawn Manor Academy  Mixed  Requires improvement   \n",
       "20589  122854              Chilwell School  Mixed                  Good   \n",
       "20710  123236  Carterton Community College  Mixed                  Good   \n",
       "\n",
       "         KS4_Avg KS4_Disadvantaged KS4_EAL  \n",
       "35     42.566667              0.63     0.7  \n",
       "36     60.766667              0.39    0.36  \n",
       "37     42.600000              0.72    0.87  \n",
       "38     38.300000              0.45    0.39  \n",
       "39     43.766667              0.42    0.29  \n",
       "...          ...               ...     ...  \n",
       "20547  37.066667              0.19    0.06  \n",
       "20548  39.700000              0.23    0.05  \n",
       "20550  25.200000              0.37    0.37  \n",
       "20589  38.766667              0.18    0.17  \n",
       "20710  25.366667               0.2    0.05  \n",
       "\n",
       "[3387 rows x 7 columns]"
      ]
     },
     "execution_count": 116,
     "metadata": {},
     "output_type": "execute_result"
    }
   ],
   "source": [
    "#rename the Ofsted and gender columns\n",
    "df = df.rename(columns={'OFSTEDRATING':'Ofsted'}) \n",
    "df = df.rename(columns={'GENDER':'Gender'})\n",
    "\n",
    "#extract rows with valid value of KS4 results as some represent primary schools with KS2 results\n",
    "df = df[df.KS4_Avg > 0] \n",
    "df"
   ]
  },
  {
   "cell_type": "code",
   "execution_count": 117,
   "id": "48469360-2650-4e85-9ffb-aa0014b73ee6",
   "metadata": {},
   "outputs": [
    {
     "data": {
      "text/plain": [
       "array([0.63, 0.39, 0.72, 0.45, 0.42, 0.35, 0.44, 0.55, 0.32, 0.58, 0.28,\n",
       "       0.38, 0.29, 0.2, 0.59, 0.31, 0.43, 0.75, 0.53, 0.49, 0.5, 0.41,\n",
       "       0.21, 0.34, 0.52, 0.51, 0.56, 0.1, 0.36, 0.37, 0.18, 0.14, 0.48,\n",
       "       0.23, 0.27, 0.15, 0.3, 0.46, 0.4, 0.57, 0.64, 0.22, 0.19, 0.54,\n",
       "       0.16, 0.12, 0.33, 0.24, 0.6, 0.66, 0.09, 0.08, 0.25, 0.61, 0.13,\n",
       "       0.65, 0.17, 0.06, 0.03, 0.02, 0.11, 0.47, 0.26, 0.05, 0.07, 0.04,\n",
       "       0.85, 0.62, 0.68, 0.73, 0.67, 0, 0.95, 0.96, 0.81, 0.01, 0.89,\n",
       "       0.76, 0.69, 0.92, 0.8, 0.71, 0.93, 0.9, 0.77, 0.87, 0.7],\n",
       "      dtype=object)"
      ]
     },
     "execution_count": 117,
     "metadata": {},
     "output_type": "execute_result"
    }
   ],
   "source": [
    "#drop rows with KS4_Disadvantaged with \"NP\" or null values\n",
    "df = df.drop(df[df['KS4_Disadvantaged']==\"NP\"].index)\n",
    "df = df.dropna(subset=[\"KS4_Disadvantaged\"], axis=0)\n",
    "df[\"KS4_Disadvantaged\"].unique()"
   ]
  },
  {
   "cell_type": "code",
   "execution_count": 118,
   "id": "9be70f25-af71-4f39-9d7f-91c4e176bd9a",
   "metadata": {},
   "outputs": [
    {
     "data": {
      "text/plain": [
       "array([0.63, 0.39, 0.72, 0.45, 0.42, 0.35, 0.44, 0.55, 0.32, 0.58, 0.28,\n",
       "       0.38, 0.29, 0.2 , 0.59, 0.31, 0.43, 0.75, 0.53, 0.49, 0.5 , 0.41,\n",
       "       0.21, 0.34, 0.52, 0.51, 0.56, 0.1 , 0.36, 0.37, 0.18, 0.14, 0.48,\n",
       "       0.23, 0.27, 0.15, 0.3 , 0.46, 0.4 , 0.57, 0.64, 0.22, 0.19, 0.54,\n",
       "       0.16, 0.12, 0.33, 0.24, 0.6 , 0.66, 0.09, 0.08, 0.25, 0.61, 0.13,\n",
       "       0.65, 0.17, 0.06, 0.03, 0.02, 0.11, 0.47, 0.26, 0.05, 0.07, 0.04,\n",
       "       0.85, 0.62, 0.68, 0.73, 0.67, 0.  , 0.95, 0.96, 0.81, 0.01, 0.89,\n",
       "       0.76, 0.69, 0.92, 0.8 , 0.71, 0.93, 0.9 , 0.77, 0.87, 0.7 ])"
      ]
     },
     "execution_count": 118,
     "metadata": {},
     "output_type": "execute_result"
    }
   ],
   "source": [
    "#change the data type of the values of KS4_Disadvantaged from object to float\n",
    "df[[\"KS4_Disadvantaged\"]] = df[[\"KS4_Disadvantaged\"]].astype(\"float\")\n",
    "df[\"KS4_Disadvantaged\"].unique()"
   ]
  },
  {
   "cell_type": "code",
   "execution_count": 119,
   "id": "bf80d225-9301-476a-884e-d715e1b3f406",
   "metadata": {},
   "outputs": [
    {
     "data": {
      "text/plain": [
       "array([0.7, 0.36, 0.87, 0.39, 0.29, 0.38, 0.43, 0.48, 0.25, 0.21, 0.14,\n",
       "       0.44, 0.54, 0.65, 0.66, 0.3, 0.69, 0.63, 0.13, 0.22, 0.76, 0.02,\n",
       "       0.03, 0.2, 0.27, 0, 0.01, 0.33, 0.16, 0.23, 0.05, 0.53, 0.04, 0.73,\n",
       "       0.55, 0.26, 0.74, 0.52, 0.07, 0.35, 0.37, 0.1, 0.32, 0.47, 0.62,\n",
       "       0.49, 0.71, 0.42, 0.19, 0.75, 0.83, 0.72, 0.86, 0.56, 0.06, 0.45,\n",
       "       0.18, 0.24, 0.64, 0.11, 0.15, 0.59, 0.79, 0.41, 0.67, 0.6, 0.12,\n",
       "       0.61, 0.5, 0.28, 0.99, 0.09, 0.97, 0.57, 0.31, 0.81, 0.17, 0.4,\n",
       "       0.08, 0.9, 0.68, 0.34, 0.93, 0.88, 0.84, 0.8, 0.77, 0.78, 0.46,\n",
       "       0.51, 0.94, 0.58, 0.85, 0.89, 0.82], dtype=object)"
      ]
     },
     "execution_count": 119,
     "metadata": {},
     "output_type": "execute_result"
    }
   ],
   "source": [
    "#drop rows with KS4_EAL with null values\n",
    "df = df.dropna(subset=[\"KS4_EAL\"], axis=0)\n",
    "df[\"KS4_EAL\"].unique()"
   ]
  },
  {
   "cell_type": "code",
   "execution_count": 120,
   "id": "b312c1eb-0534-4dcf-84c7-442f227472ed",
   "metadata": {},
   "outputs": [
    {
     "data": {
      "text/plain": [
       "array([0.7 , 0.36, 0.87, 0.39, 0.29, 0.38, 0.43, 0.48, 0.25, 0.21, 0.14,\n",
       "       0.44, 0.54, 0.65, 0.66, 0.3 , 0.69, 0.63, 0.13, 0.22, 0.76, 0.02,\n",
       "       0.03, 0.2 , 0.27, 0.  , 0.01, 0.33, 0.16, 0.23, 0.05, 0.53, 0.04,\n",
       "       0.73, 0.55, 0.26, 0.74, 0.52, 0.07, 0.35, 0.37, 0.1 , 0.32, 0.47,\n",
       "       0.62, 0.49, 0.71, 0.42, 0.19, 0.75, 0.83, 0.72, 0.86, 0.56, 0.06,\n",
       "       0.45, 0.18, 0.24, 0.64, 0.11, 0.15, 0.59, 0.79, 0.41, 0.67, 0.6 ,\n",
       "       0.12, 0.61, 0.5 , 0.28, 0.99, 0.09, 0.97, 0.57, 0.31, 0.81, 0.17,\n",
       "       0.4 , 0.08, 0.9 , 0.68, 0.34, 0.93, 0.88, 0.84, 0.8 , 0.77, 0.78,\n",
       "       0.46, 0.51, 0.94, 0.58, 0.85, 0.89, 0.82])"
      ]
     },
     "execution_count": 120,
     "metadata": {},
     "output_type": "execute_result"
    }
   ],
   "source": [
    "#change the data type of the values of KS4_EAL from object to float\n",
    "df[[\"KS4_EAL\"]] = df[[\"KS4_EAL\"]].astype(\"float\")\n",
    "df[\"KS4_EAL\"].unique()"
   ]
  },
  {
   "cell_type": "code",
   "execution_count": 121,
   "id": "af515eb2-639e-4d1a-9d36-7057236fe942",
   "metadata": {},
   "outputs": [
    {
     "data": {
      "text/html": [
       "<div>\n",
       "<style scoped>\n",
       "    .dataframe tbody tr th:only-of-type {\n",
       "        vertical-align: middle;\n",
       "    }\n",
       "\n",
       "    .dataframe tbody tr th {\n",
       "        vertical-align: top;\n",
       "    }\n",
       "\n",
       "    .dataframe thead th {\n",
       "        text-align: right;\n",
       "    }\n",
       "</style>\n",
       "<table border=\"1\" class=\"dataframe\">\n",
       "  <thead>\n",
       "    <tr style=\"text-align: right;\">\n",
       "      <th></th>\n",
       "      <th>URN</th>\n",
       "      <th>SCHNAME</th>\n",
       "      <th>Gender</th>\n",
       "      <th>Ofsted</th>\n",
       "      <th>KS4_Avg</th>\n",
       "      <th>KS4_Disadvantaged</th>\n",
       "      <th>KS4_EAL</th>\n",
       "    </tr>\n",
       "  </thead>\n",
       "  <tbody>\n",
       "    <tr>\n",
       "      <th>0</th>\n",
       "      <td>100049</td>\n",
       "      <td>Haverstock School</td>\n",
       "      <td>Mixed</td>\n",
       "      <td>Good</td>\n",
       "      <td>42.566667</td>\n",
       "      <td>0.63</td>\n",
       "      <td>0.70</td>\n",
       "    </tr>\n",
       "    <tr>\n",
       "      <th>1</th>\n",
       "      <td>100050</td>\n",
       "      <td>Parliament Hill School</td>\n",
       "      <td>Girls</td>\n",
       "      <td>Good</td>\n",
       "      <td>60.766667</td>\n",
       "      <td>0.39</td>\n",
       "      <td>0.36</td>\n",
       "    </tr>\n",
       "    <tr>\n",
       "      <th>2</th>\n",
       "      <td>100051</td>\n",
       "      <td>Regent High School</td>\n",
       "      <td>Mixed</td>\n",
       "      <td>Good</td>\n",
       "      <td>42.600000</td>\n",
       "      <td>0.72</td>\n",
       "      <td>0.87</td>\n",
       "    </tr>\n",
       "    <tr>\n",
       "      <th>3</th>\n",
       "      <td>100052</td>\n",
       "      <td>Hampstead School</td>\n",
       "      <td>Mixed</td>\n",
       "      <td>Good</td>\n",
       "      <td>38.300000</td>\n",
       "      <td>0.45</td>\n",
       "      <td>0.39</td>\n",
       "    </tr>\n",
       "    <tr>\n",
       "      <th>4</th>\n",
       "      <td>100053</td>\n",
       "      <td>Acland Burghley School</td>\n",
       "      <td>Mixed</td>\n",
       "      <td>Good</td>\n",
       "      <td>43.766667</td>\n",
       "      <td>0.42</td>\n",
       "      <td>0.29</td>\n",
       "    </tr>\n",
       "    <tr>\n",
       "      <th>...</th>\n",
       "      <td>...</td>\n",
       "      <td>...</td>\n",
       "      <td>...</td>\n",
       "      <td>...</td>\n",
       "      <td>...</td>\n",
       "      <td>...</td>\n",
       "      <td>...</td>\n",
       "    </tr>\n",
       "    <tr>\n",
       "      <th>3145</th>\n",
       "      <td>144766</td>\n",
       "      <td>Ron Dearing UTC</td>\n",
       "      <td>Mixed</td>\n",
       "      <td>Outstanding</td>\n",
       "      <td>37.066667</td>\n",
       "      <td>0.19</td>\n",
       "      <td>0.06</td>\n",
       "    </tr>\n",
       "    <tr>\n",
       "      <th>3146</th>\n",
       "      <td>144768</td>\n",
       "      <td>The Suthers School</td>\n",
       "      <td>Mixed</td>\n",
       "      <td>Requires improvement</td>\n",
       "      <td>39.700000</td>\n",
       "      <td>0.23</td>\n",
       "      <td>0.05</td>\n",
       "    </tr>\n",
       "    <tr>\n",
       "      <th>3147</th>\n",
       "      <td>144773</td>\n",
       "      <td>Lawn Manor Academy</td>\n",
       "      <td>Mixed</td>\n",
       "      <td>Requires improvement</td>\n",
       "      <td>25.200000</td>\n",
       "      <td>0.37</td>\n",
       "      <td>0.37</td>\n",
       "    </tr>\n",
       "    <tr>\n",
       "      <th>3148</th>\n",
       "      <td>122854</td>\n",
       "      <td>Chilwell School</td>\n",
       "      <td>Mixed</td>\n",
       "      <td>Good</td>\n",
       "      <td>38.766667</td>\n",
       "      <td>0.18</td>\n",
       "      <td>0.17</td>\n",
       "    </tr>\n",
       "    <tr>\n",
       "      <th>3149</th>\n",
       "      <td>123236</td>\n",
       "      <td>Carterton Community College</td>\n",
       "      <td>Mixed</td>\n",
       "      <td>Good</td>\n",
       "      <td>25.366667</td>\n",
       "      <td>0.20</td>\n",
       "      <td>0.05</td>\n",
       "    </tr>\n",
       "  </tbody>\n",
       "</table>\n",
       "<p>3150 rows × 7 columns</p>\n",
       "</div>"
      ],
      "text/plain": [
       "         URN                      SCHNAME Gender                Ofsted  \\\n",
       "0     100049            Haverstock School  Mixed                  Good   \n",
       "1     100050       Parliament Hill School  Girls                  Good   \n",
       "2     100051           Regent High School  Mixed                  Good   \n",
       "3     100052             Hampstead School  Mixed                  Good   \n",
       "4     100053       Acland Burghley School  Mixed                  Good   \n",
       "...      ...                          ...    ...                   ...   \n",
       "3145  144766              Ron Dearing UTC  Mixed           Outstanding   \n",
       "3146  144768           The Suthers School  Mixed  Requires improvement   \n",
       "3147  144773           Lawn Manor Academy  Mixed  Requires improvement   \n",
       "3148  122854              Chilwell School  Mixed                  Good   \n",
       "3149  123236  Carterton Community College  Mixed                  Good   \n",
       "\n",
       "        KS4_Avg  KS4_Disadvantaged  KS4_EAL  \n",
       "0     42.566667               0.63     0.70  \n",
       "1     60.766667               0.39     0.36  \n",
       "2     42.600000               0.72     0.87  \n",
       "3     38.300000               0.45     0.39  \n",
       "4     43.766667               0.42     0.29  \n",
       "...         ...                ...      ...  \n",
       "3145  37.066667               0.19     0.06  \n",
       "3146  39.700000               0.23     0.05  \n",
       "3147  25.200000               0.37     0.37  \n",
       "3148  38.766667               0.18     0.17  \n",
       "3149  25.366667               0.20     0.05  \n",
       "\n",
       "[3150 rows x 7 columns]"
      ]
     },
     "execution_count": 121,
     "metadata": {},
     "output_type": "execute_result"
    }
   ],
   "source": [
    "df.reset_index(drop=True, inplace=True) #reset the index of the dataset\n",
    "df"
   ]
  },
  {
   "cell_type": "code",
   "execution_count": 122,
   "id": "ddde4c1c-e46c-41f1-b921-47b9f8ba136c",
   "metadata": {},
   "outputs": [
    {
     "data": {
      "image/png": "[encoded data removed]",
      "text/plain": [
       "<Figure size 432x288 with 2 Axes>"
      ]
     },
     "metadata": {
      "needs_background": "light"
     },
     "output_type": "display_data"
    }
   ],
   "source": [
    "#extract columns of KS4_Avg, KS4_Disadvantaged and KS4_EAL for the correlation analysis\n",
    "df2 = df[[\"KS4_Avg\", \"KS4_Disadvantaged\", \"KS4_EAL\"]]\n",
    "df2 = df2.drop_duplicates()\n",
    "\n",
    "import matplotlib.pyplot as plt\n",
    "import seaborn as sb\n",
    "#correlation maxtrix of KS4_Avg, KS4_Disadvantaged and KS4_EAL\n",
    "sb.heatmap(df2.corr(), cmap = \"Greens\", linecolor = \"white\", linewidth = 5, annot = True, alpha = 0.8)\n",
    "plt.title(\"Correlation Matrix of KS4 results against different factors\")\n",
    "plt.tight_layout()\n",
    "plt.show()"
   ]
  },
  {
   "cell_type": "code",
   "execution_count": 123,
   "id": "010119f6-2db2-433c-8d0b-4f68f2946159",
   "metadata": {},
   "outputs": [
    {
     "data": {
      "text/plain": [
       "<AxesSubplot:xlabel='KS4_Disadvantaged', ylabel='KS4_Avg'>"
      ]
     },
     "execution_count": 123,
     "metadata": {},
     "output_type": "execute_result"
    },
    {
     "data": {
      "image/png": "[encoded data removed]",
      "text/plain": [
       "<Figure size 432x288 with 1 Axes>"
      ]
     },
     "metadata": {
      "needs_background": "light"
     },
     "output_type": "display_data"
    }
   ],
   "source": [
    "#check the statistical significance of the correlation between the proportion of Disadvantaged students and the KS4 results\n",
    "import seaborn as sns\n",
    "sns.regplot(x=\"KS4_Disadvantaged\", y=\"KS4_Avg\", data=df)"
   ]
  },
  {
   "cell_type": "code",
   "execution_count": 124,
   "id": "bd76a33d-8000-4310-88b7-2ad435980901",
   "metadata": {},
   "outputs": [
    {
     "name": "stdout",
     "output_type": "stream",
     "text": [
      "The Pearson Correlation Coefficient is -0.5284054854919888  with a P-value of P =  4.152475928697588e-226\n"
     ]
    }
   ],
   "source": [
    "#F statistics of the correlation between KS4_Disadvantaged and KS4_Avg\n",
    "from scipy import stats\n",
    "pearson_coef, p_value = stats.pearsonr(df['KS4_Disadvantaged'], df['KS4_Avg'])\n",
    "print(\"The Pearson Correlation Coefficient is\", pearson_coef, \" with a P-value of P = \", p_value)  \n",
    "\n",
    "#the p value is less than alpha (0.05) and the correlation coefficient is -0.53, showing KS4_Disadvantaged \n",
    "#has fairly strong negative correlation to the KS4 results"
   ]
  },
  {
   "cell_type": "code",
   "execution_count": 125,
   "id": "d9b19478-4476-4032-a6fd-95e6ee5129e2",
   "metadata": {},
   "outputs": [
    {
     "name": "stdout",
     "output_type": "stream",
     "text": [
      "The Pearson Correlation Coefficient is 0.08389995147142085  with a P-value of P =  2.41331754806385e-06\n"
     ]
    }
   ],
   "source": [
    "#F statistics of the correlation between the proportion of studets with English as an additional language and KS4_Avg\n",
    "pearson_coef, p_value = stats.pearsonr(df['KS4_EAL'], df['KS4_Avg'])\n",
    "print(\"The Pearson Correlation Coefficient is\", pearson_coef, \" with a P-value of P = \", p_value)  \n",
    "\n",
    "#the p value is less than alpha (0.05) and the correlation coefficient is merely 0.084, showing KS4_EAL \n",
    "#has very weak correlation to the KS4 results"
   ]
  },
  {
   "cell_type": "code",
   "execution_count": 127,
   "id": "9ad3778e-4b1d-4d72-8b8c-df4e18ac6764",
   "metadata": {},
   "outputs": [
    {
     "data": {
      "text/plain": [
       "<AxesSubplot:xlabel='Ofsted', ylabel='KS4_Avg'>"
      ]
     },
     "execution_count": 127,
     "metadata": {},
     "output_type": "execute_result"
    },
    {
     "data": {
      "image/png": "[encoded data removed]",
      "text/plain": [
       "<Figure size 432x288 with 1 Axes>"
      ]
     },
     "metadata": {
      "needs_background": "light"
     },
     "output_type": "display_data"
    }
   ],
   "source": [
    "#check the statistical significance of the correlation between the Ofsted Ratings and the KS4 results using ANOVA\n",
    "#only extract the rows with Ofsted ratings of \"Outstanding\", \"Good\" and \"Requires improvement\"\n",
    "df = df.loc[(df.Ofsted == 'Outstanding') | (df.Ofsted == 'Good') | (df.Ofsted == 'Requires improvement')]\n",
    "sns.boxplot(x = \"Ofsted\", y = \"KS4_Avg\", data = df, order=[\"Outstanding\", \"Good\", \"Requires improvement\"])"
   ]
  },
  {
   "cell_type": "code",
   "execution_count": 128,
   "id": "1f7a06fa-ef7e-4b57-b30d-fec4c1235ae0",
   "metadata": {},
   "outputs": [],
   "source": [
    "df_grouped = df[['Ofsted', 'KS4_Avg']]\n",
    "grouped = df_grouped[['Ofsted', 'KS4_Avg']].groupby(['Ofsted'])"
   ]
  },
  {
   "cell_type": "code",
   "execution_count": 129,
   "id": "c5655e14-b0fb-4e38-b788-ab2cb62ebddb",
   "metadata": {},
   "outputs": [
    {
     "name": "stdout",
     "output_type": "stream",
     "text": [
      "ANOVA results: F= 501.89889506905024 , P = 6.238086858191168e-186\n"
     ]
    }
   ],
   "source": [
    "#p value is less than alpha of 0.05, showing the statistical significance of the correlation between the three \n",
    "#attributes of the Ofsted ratings and KS4 results \n",
    "f_val, p_val = stats.f_oneway(grouped.get_group('Outstanding')['KS4_Avg'], grouped.get_group('Good')['KS4_Avg'], grouped.get_group('Requires improvement')['KS4_Avg'])  \n",
    "print( \"ANOVA results: F=\", f_val, \", P =\", p_val) "
   ]
  },
  {
   "cell_type": "code",
   "execution_count": 130,
   "id": "b274fb35-9e85-4005-b00a-c653d652f828",
   "metadata": {},
   "outputs": [
    {
     "name": "stdout",
     "output_type": "stream",
     "text": [
      "ANOVA results: F= 675.8976749219131 , P = 6.061413751685579e-131\n"
     ]
    }
   ],
   "source": [
    "#p value is less than alpha of 0.05, showing the statistical significance of the correlation between \n",
    "#\"Outstanding\" and \"Good\" and KS4 results \n",
    "f_val, p_val = stats.f_oneway(grouped.get_group('Outstanding')['KS4_Avg'], grouped.get_group('Good')['KS4_Avg'])  \n",
    "print( \"ANOVA results: F=\", f_val, \", P =\", p_val)  "
   ]
  },
  {
   "cell_type": "code",
   "execution_count": 131,
   "id": "4df6a4a6-2fd3-4f8c-9ba6-f41255071ad0",
   "metadata": {},
   "outputs": [
    {
     "name": "stdout",
     "output_type": "stream",
     "text": [
      "ANOVA results: F= 803.0431871236392 , P = 1.2809627738159285e-123\n"
     ]
    }
   ],
   "source": [
    "#p value is less than alpha of 0.05, showing the statistical significance of the correlation between \"Outstanding\" \n",
    "#and \"Requires improvement\" and KS4 results \n",
    "f_val, p_val = stats.f_oneway(grouped.get_group('Outstanding')['KS4_Avg'], grouped.get_group('Requires improvement')['KS4_Avg'])  \n",
    "print( \"ANOVA results: F=\", f_val, \", P =\", p_val)  "
   ]
  },
  {
   "cell_type": "code",
   "execution_count": 132,
   "id": "fe87180b-830f-4e08-be3e-a4a881f0f4e7",
   "metadata": {},
   "outputs": [
    {
     "name": "stdout",
     "output_type": "stream",
     "text": [
      "ANOVA results: F= 155.6022922882696 , P = 1.4111142596420583e-34\n"
     ]
    }
   ],
   "source": [
    "#p value is less than alpha of 0.05, showing the statistical significance of the correlation between \"Good\" and \n",
    "#\"Requires improvement\" and KS4 results \n",
    "f_val, p_val = stats.f_oneway(grouped.get_group('Good')['KS4_Avg'], grouped.get_group('Requires improvement')['KS4_Avg'])  \n",
    "print( \"ANOVA results: F=\", f_val, \", P =\", p_val)  "
   ]
  },
  {
   "cell_type": "code",
   "execution_count": 133,
   "id": "1c63d35c-4a0a-4f81-9d95-ba8f1a988043",
   "metadata": {},
   "outputs": [
    {
     "data": {
      "text/plain": [
       "<AxesSubplot:xlabel='Gender', ylabel='KS4_Avg'>"
      ]
     },
     "execution_count": 133,
     "metadata": {},
     "output_type": "execute_result"
    },
    {
     "data": {
      "image/png": "[encoded data removed]",
      "text/plain": [
       "<Figure size 432x288 with 1 Axes>"
      ]
     },
     "metadata": {
      "needs_background": "light"
     },
     "output_type": "display_data"
    }
   ],
   "source": [
    "#check the statistical significance of the correlation between the gender and the KS4 results using ANOVA\n",
    "sns.boxplot(x = \"Gender\", y = \"KS4_Avg\", data = df)"
   ]
  },
  {
   "cell_type": "code",
   "execution_count": 134,
   "id": "fb49f2ea-bb34-4de5-a72a-ef58f22328d2",
   "metadata": {},
   "outputs": [],
   "source": [
    "df_grouped = df[['Gender', 'KS4_Avg']]\n",
    "grouped = df_grouped[['Gender', 'KS4_Avg']].groupby(['Gender'])"
   ]
  },
  {
   "cell_type": "code",
   "execution_count": 21,
   "id": "965b94c1-6b1d-45db-b758-20b0f204fb73",
   "metadata": {},
   "outputs": [
    {
     "name": "stdout",
     "output_type": "stream",
     "text": [
      "ANOVA results: F= 289.5374837407162 , P = 1.3396107132977622e-114\n"
     ]
    }
   ],
   "source": [
    "#p value is less than alpha of 0.05, showing the statistical significance of the correlation between the \n",
    "#three attributes of Gender and KS4 results \n",
    "f_val, p_val = stats.f_oneway(grouped.get_group('Mixed')['KS4_Avg'], grouped.get_group('Girls')['KS4_Avg'], grouped.get_group('Boys')['KS4_Avg'])  \n",
    "print( \"ANOVA results: F=\", f_val, \", P =\", p_val)  "
   ]
  },
  {
   "cell_type": "code",
   "execution_count": 22,
   "id": "b07abe9f-17eb-4253-9700-df4c8df65359",
   "metadata": {},
   "outputs": [
    {
     "name": "stdout",
     "output_type": "stream",
     "text": [
      "ANOVA results: F= 429.9503035503544 , P = 2.0543444373502938e-88\n"
     ]
    }
   ],
   "source": [
    "#p value is less than alpha of 0.05, showing the statistical significance of the correlation between \"Mixed\" \n",
    "#and \"Girls\" and KS4 results \n",
    "f_val, p_val = stats.f_oneway(grouped.get_group('Mixed')['KS4_Avg'], grouped.get_group('Girls')['KS4_Avg'])  \n",
    "print( \"ANOVA results: F=\", f_val, \", P =\", p_val)  "
   ]
  },
  {
   "cell_type": "code",
   "execution_count": 23,
   "id": "76661882-0980-418a-bdb2-4933f325994d",
   "metadata": {},
   "outputs": [
    {
     "name": "stdout",
     "output_type": "stream",
     "text": [
      "ANOVA results: F= 219.78606508190978 , P = 9.645830053446995e-48\n"
     ]
    }
   ],
   "source": [
    "#p value is less than alpha of 0.05, showing the statistical significance of the correlation between \"Mixed\" \n",
    "#and \"Boys\" and KS4 results \n",
    "f_val, p_val = stats.f_oneway(grouped.get_group('Mixed')['KS4_Avg'], grouped.get_group('Boys')['KS4_Avg'])  \n",
    "print( \"ANOVA results: F=\", f_val, \", P =\", p_val)  "
   ]
  },
  {
   "cell_type": "code",
   "execution_count": 24,
   "id": "41cc8149-456c-40e4-8b90-9a4a1c759d63",
   "metadata": {},
   "outputs": [
    {
     "name": "stdout",
     "output_type": "stream",
     "text": [
      "ANOVA results: F= 3.4280490150712017 , P = 0.06512485025435175\n"
     ]
    }
   ],
   "source": [
    "#p value is greater than alpha of 0.05, the correlation between \"Mixed\" and \"Girls\" and KS4 results may not \n",
    "#have statistical significance\n",
    "f_val, p_val = stats.f_oneway(grouped.get_group('Girls')['KS4_Avg'], grouped.get_group('Boys')['KS4_Avg'])  \n",
    "print( \"ANOVA results: F=\", f_val, \", P =\", p_val)  "
   ]
  },
  {
   "cell_type": "code",
   "execution_count": 135,
   "id": "501ef608-b6cc-402f-a8f0-09a13037898c",
   "metadata": {},
   "outputs": [
    {
     "data": {
      "text/html": [
       "<div>\n",
       "<style scoped>\n",
       "    .dataframe tbody tr th:only-of-type {\n",
       "        vertical-align: middle;\n",
       "    }\n",
       "\n",
       "    .dataframe tbody tr th {\n",
       "        vertical-align: top;\n",
       "    }\n",
       "\n",
       "    .dataframe thead th {\n",
       "        text-align: right;\n",
       "    }\n",
       "</style>\n",
       "<table border=\"1\" class=\"dataframe\">\n",
       "  <thead>\n",
       "    <tr style=\"text-align: right;\">\n",
       "      <th></th>\n",
       "      <th>URN</th>\n",
       "      <th>SCHNAME</th>\n",
       "      <th>Gender</th>\n",
       "      <th>KS4_Avg</th>\n",
       "      <th>KS4_Disadvantaged</th>\n",
       "      <th>KS4_EAL</th>\n",
       "      <th>Good</th>\n",
       "      <th>Outstanding</th>\n",
       "      <th>Requires improvement</th>\n",
       "    </tr>\n",
       "  </thead>\n",
       "  <tbody>\n",
       "    <tr>\n",
       "      <th>0</th>\n",
       "      <td>100049</td>\n",
       "      <td>Haverstock School</td>\n",
       "      <td>Mixed</td>\n",
       "      <td>42.566667</td>\n",
       "      <td>0.63</td>\n",
       "      <td>0.70</td>\n",
       "      <td>1</td>\n",
       "      <td>0</td>\n",
       "      <td>0</td>\n",
       "    </tr>\n",
       "    <tr>\n",
       "      <th>1</th>\n",
       "      <td>100050</td>\n",
       "      <td>Parliament Hill School</td>\n",
       "      <td>Girls</td>\n",
       "      <td>60.766667</td>\n",
       "      <td>0.39</td>\n",
       "      <td>0.36</td>\n",
       "      <td>1</td>\n",
       "      <td>0</td>\n",
       "      <td>0</td>\n",
       "    </tr>\n",
       "    <tr>\n",
       "      <th>2</th>\n",
       "      <td>100051</td>\n",
       "      <td>Regent High School</td>\n",
       "      <td>Mixed</td>\n",
       "      <td>42.600000</td>\n",
       "      <td>0.72</td>\n",
       "      <td>0.87</td>\n",
       "      <td>1</td>\n",
       "      <td>0</td>\n",
       "      <td>0</td>\n",
       "    </tr>\n",
       "    <tr>\n",
       "      <th>3</th>\n",
       "      <td>100052</td>\n",
       "      <td>Hampstead School</td>\n",
       "      <td>Mixed</td>\n",
       "      <td>38.300000</td>\n",
       "      <td>0.45</td>\n",
       "      <td>0.39</td>\n",
       "      <td>1</td>\n",
       "      <td>0</td>\n",
       "      <td>0</td>\n",
       "    </tr>\n",
       "    <tr>\n",
       "      <th>4</th>\n",
       "      <td>100053</td>\n",
       "      <td>Acland Burghley School</td>\n",
       "      <td>Mixed</td>\n",
       "      <td>43.766667</td>\n",
       "      <td>0.42</td>\n",
       "      <td>0.29</td>\n",
       "      <td>1</td>\n",
       "      <td>0</td>\n",
       "      <td>0</td>\n",
       "    </tr>\n",
       "    <tr>\n",
       "      <th>...</th>\n",
       "      <td>...</td>\n",
       "      <td>...</td>\n",
       "      <td>...</td>\n",
       "      <td>...</td>\n",
       "      <td>...</td>\n",
       "      <td>...</td>\n",
       "      <td>...</td>\n",
       "      <td>...</td>\n",
       "      <td>...</td>\n",
       "    </tr>\n",
       "    <tr>\n",
       "      <th>3145</th>\n",
       "      <td>144766</td>\n",
       "      <td>Ron Dearing UTC</td>\n",
       "      <td>Mixed</td>\n",
       "      <td>37.066667</td>\n",
       "      <td>0.19</td>\n",
       "      <td>0.06</td>\n",
       "      <td>0</td>\n",
       "      <td>1</td>\n",
       "      <td>0</td>\n",
       "    </tr>\n",
       "    <tr>\n",
       "      <th>3146</th>\n",
       "      <td>144768</td>\n",
       "      <td>The Suthers School</td>\n",
       "      <td>Mixed</td>\n",
       "      <td>39.700000</td>\n",
       "      <td>0.23</td>\n",
       "      <td>0.05</td>\n",
       "      <td>0</td>\n",
       "      <td>0</td>\n",
       "      <td>1</td>\n",
       "    </tr>\n",
       "    <tr>\n",
       "      <th>3147</th>\n",
       "      <td>144773</td>\n",
       "      <td>Lawn Manor Academy</td>\n",
       "      <td>Mixed</td>\n",
       "      <td>25.200000</td>\n",
       "      <td>0.37</td>\n",
       "      <td>0.37</td>\n",
       "      <td>0</td>\n",
       "      <td>0</td>\n",
       "      <td>1</td>\n",
       "    </tr>\n",
       "    <tr>\n",
       "      <th>3148</th>\n",
       "      <td>122854</td>\n",
       "      <td>Chilwell School</td>\n",
       "      <td>Mixed</td>\n",
       "      <td>38.766667</td>\n",
       "      <td>0.18</td>\n",
       "      <td>0.17</td>\n",
       "      <td>1</td>\n",
       "      <td>0</td>\n",
       "      <td>0</td>\n",
       "    </tr>\n",
       "    <tr>\n",
       "      <th>3149</th>\n",
       "      <td>123236</td>\n",
       "      <td>Carterton Community College</td>\n",
       "      <td>Mixed</td>\n",
       "      <td>25.366667</td>\n",
       "      <td>0.20</td>\n",
       "      <td>0.05</td>\n",
       "      <td>1</td>\n",
       "      <td>0</td>\n",
       "      <td>0</td>\n",
       "    </tr>\n",
       "  </tbody>\n",
       "</table>\n",
       "<p>2690 rows × 9 columns</p>\n",
       "</div>"
      ],
      "text/plain": [
       "         URN                      SCHNAME Gender    KS4_Avg  \\\n",
       "0     100049            Haverstock School  Mixed  42.566667   \n",
       "1     100050       Parliament Hill School  Girls  60.766667   \n",
       "2     100051           Regent High School  Mixed  42.600000   \n",
       "3     100052             Hampstead School  Mixed  38.300000   \n",
       "4     100053       Acland Burghley School  Mixed  43.766667   \n",
       "...      ...                          ...    ...        ...   \n",
       "3145  144766              Ron Dearing UTC  Mixed  37.066667   \n",
       "3146  144768           The Suthers School  Mixed  39.700000   \n",
       "3147  144773           Lawn Manor Academy  Mixed  25.200000   \n",
       "3148  122854              Chilwell School  Mixed  38.766667   \n",
       "3149  123236  Carterton Community College  Mixed  25.366667   \n",
       "\n",
       "      KS4_Disadvantaged  KS4_EAL  Good  Outstanding  Requires improvement  \n",
       "0                  0.63     0.70     1            0                     0  \n",
       "1                  0.39     0.36     1            0                     0  \n",
       "2                  0.72     0.87     1            0                     0  \n",
       "3                  0.45     0.39     1            0                     0  \n",
       "4                  0.42     0.29     1            0                     0  \n",
       "...                 ...      ...   ...          ...                   ...  \n",
       "3145               0.19     0.06     0            1                     0  \n",
       "3146               0.23     0.05     0            0                     1  \n",
       "3147               0.37     0.37     0            0                     1  \n",
       "3148               0.18     0.17     1            0                     0  \n",
       "3149               0.20     0.05     1            0                     0  \n",
       "\n",
       "[2690 rows x 9 columns]"
      ]
     },
     "execution_count": 135,
     "metadata": {},
     "output_type": "execute_result"
    }
   ],
   "source": [
    "#From the above analysis, conclude that KS4_Disadvantaged and Ofsted ratings are fairly good independent variables for KS4 results\n",
    "\n",
    "#set the dummy variables (\"Good\", \"Outstanding\" and \"Requires improvement\") for the categorical variable Ofsted \n",
    "dummy_var = pd.get_dummies(df[\"Ofsted\"])\n",
    "df = pd.concat([df, dummy_var], axis=1) #add the columns of the dummy variables of Ofsted rating to the original dataset\n",
    "df.drop(\"Ofsted\", axis=1, inplace=True) #remove the original Ofsted rating column\n",
    "df"
   ]
  },
  {
   "cell_type": "code",
   "execution_count": 142,
   "id": "f64ad727-5c5b-4a17-93de-41e1b540a910",
   "metadata": {},
   "outputs": [
    {
     "name": "stdout",
     "output_type": "stream",
     "text": [
      "The intercept is  50.27203466668245 and the coefficients are  [-35.14783252  11.09759244  -2.83797084  -8.2596216 ] respectively.\n"
     ]
    }
   ],
   "source": [
    "#Develop multiple linear regression model\n",
    "\n",
    "from sklearn.linear_model import LinearRegression\n",
    "from sklearn.model_selection import train_test_split\n",
    "\n",
    "x_data = df[['KS4_Disadvantaged','Outstanding', 'Good', 'Requires improvement']]\n",
    "y_data = df['KS4_Avg']\n",
    "#split 90% of the data to be training data and the remaining 10% as testing data\n",
    "x_train, x_test, y_train, y_test = train_test_split(x_data, y_data, test_size=0.10, random_state=1) \n",
    "\n",
    "lr = LinearRegression() #Create the linear regression object\n",
    "lr.fit(x_train, y_train) #fittinng the model with the training data\n",
    "print(\"The intercept is \", lr.intercept_, \"and the coefficients are \", lr.coef_, \"respectively.\")"
   ]
  },
  {
   "cell_type": "code",
   "execution_count": 49,
   "id": "fbd99da6-b37b-4461-98c6-5bd9427f0a07",
   "metadata": {},
   "outputs": [],
   "source": [
    "#From the above analysis, the multiple linear regression model is as follows:\n",
    "#KS4_Avg = 50.3 - 35.1*KS4_Disadvantaged + 11.1*Outstanding - 2.8*Good - 8.3*Requires improvement\n",
    "\n",
    "#where Outstanding, Good and Requires improvement are dummy variables taking value of either 0 or 1"
   ]
  },
  {
   "cell_type": "code",
   "execution_count": 149,
   "id": "05b8287f-204e-4884-9b0f-a730f6f31910",
   "metadata": {},
   "outputs": [
    {
     "data": {
      "image/png": "[encoded data removed]",
      "text/plain": [
       "<Figure size 432x288 with 1 Axes>"
      ]
     },
     "metadata": {
      "needs_background": "light"
     },
     "output_type": "display_data"
    },
    {
     "name": "stdout",
     "output_type": "stream",
     "text": [
      "The score of the multiple linear regression model is 0.437 .\n"
     ]
    }
   ],
   "source": [
    "#Evaluate the fitness of the model by comparing the distribution plots between the actual and fitted values \n",
    "#as well as the coefficient of determination (i.e. the score) of the regression model\n",
    "Y_hat = lr.predict(x_test) #First make the prediction using testing data\n",
    "\n",
    "#Sketch the distribution plot to see if the fitted values are reasonably close to the actual values\n",
    "ax1 = sns.kdeplot(data = y_data, color=\"r\", label=\"Actual Value\")\n",
    "sns.kdeplot(data = Y_hat, color=\"b\", label=\"Fitted Values\" , ax=ax1)\n",
    "plt.title(\"Distribution plots of the actual and fitted values of the multiple regression model\")\n",
    "plt.legend(loc='best')\n",
    "plt.show()\n",
    "\n",
    "#calculate the score of the multiple regression model\n",
    "print(\"The score of the multiple linear regression model is\", round(lr.score(x_test, y_test), 3), \".\")"
   ]
  },
  {
   "cell_type": "code",
   "execution_count": null,
   "id": "4d4f3810-a9ae-4fd0-9b96-f1fb3c76b5cb",
   "metadata": {},
   "outputs": [],
   "source": []
  }
 ],
 "metadata": {
  "kernelspec": {
   "display_name": "Python 3 (ipykernel)",
   "language": "python",
   "name": "python3"
  },
  "language_info": {
   "codemirror_mode": {
    "name": "ipython",
    "version": 3
   },
   "file_extension": ".py",
   "mimetype": "text/x-python",
   "name": "python",
   "nbconvert_exporter": "python",
   "pygments_lexer": "ipython3",
   "version": "3.9.7"
  }
 },
 "nbformat": 4,
 "nbformat_minor": 5
}

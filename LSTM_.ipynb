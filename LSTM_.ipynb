{
 "cells": [
  {
   "cell_type": "markdown",
   "id": "df910ab2-98ad-4efe-8578-1d79b222c501",
   "metadata": {},
   "source": [
    "# **DETECT ANOMALIES IN STOCK PRICES USING LONG SHORT-TERM MEMORY (LSTM)**\n",
    "## Aim: \n",
    "*   LSTM model can be used for identifying anomalies in time-series data. In this model, we are going to analyze TESLA share prices (TSLA).\n",
    "*   Anomaly is detected, when the deviation of the actual price from the predicted price of the model is higher than 1% of the historical mean absolute error (MAE) \n",
    "\n",
    "## Applications of Anomaly Detection:\n",
    "\n",
    "*   Stock Trading: Use anomaly detection for trading strategies and risk management\n",
    "*   Banks and Regulators: Spot fraudulent activities and insider trading\n",
    "*   Likewise, this concept can also be applied in other fields such as detecting fraudulent credit card transactions, identifying equipment failures and medical diagnosis\n"
   ]
  },
  {
   "cell_type": "markdown",
   "id": "118d9b99-e1de-480f-b9b7-b59026bd09e4",
   "metadata": {},
   "source": [
    "### **(1) Fetch Real Stock Price Data**"
   ]
  },
  {
   "cell_type": "code",
   "execution_count": 112,
   "id": "ff5af0f8-48e8-40e1-a605-9b39321329c2",
   "metadata": {},
   "outputs": [],
   "source": [
    "# Import libraries\n",
    "import pandas as pd\n",
    "import plotly.express as pxa\n",
    "from copy import copy\n",
    "from scipy import stats\n",
    "import matplotlib.pyplot as plt\n",
    "import numpy as np\n",
    "from sklearn.preprocessing import MinMaxScaler\n",
    "from sklearn.metrics import mean_squared_error\n",
    "import datetime\n",
    "import yfinance as yf\n",
    "from tensorflow import keras"
   ]
  },
  {
   "cell_type": "code",
   "execution_count": 113,
   "id": "16b728a2-da72-44a3-b6ab-5ce9a5d50caf",
   "metadata": {},
   "outputs": [
    {
     "data": {
      "text/html": [
       "<div>\n",
       "<style scoped>\n",
       "    .dataframe tbody tr th:only-of-type {\n",
       "        vertical-align: middle;\n",
       "    }\n",
       "\n",
       "    .dataframe tbody tr th {\n",
       "        vertical-align: top;\n",
       "    }\n",
       "\n",
       "    .dataframe thead th {\n",
       "        text-align: right;\n",
       "    }\n",
       "</style>\n",
       "<table border=\"1\" class=\"dataframe\">\n",
       "  <thead>\n",
       "    <tr style=\"text-align: right;\">\n",
       "      <th></th>\n",
       "      <th>Date</th>\n",
       "      <th>Close</th>\n",
       "    </tr>\n",
       "  </thead>\n",
       "  <tbody>\n",
       "    <tr>\n",
       "      <th>0</th>\n",
       "      <td>2015-01-02</td>\n",
       "      <td>14.620667</td>\n",
       "    </tr>\n",
       "    <tr>\n",
       "      <th>1</th>\n",
       "      <td>2015-01-05</td>\n",
       "      <td>14.006000</td>\n",
       "    </tr>\n",
       "    <tr>\n",
       "      <th>2</th>\n",
       "      <td>2015-01-06</td>\n",
       "      <td>14.085333</td>\n",
       "    </tr>\n",
       "    <tr>\n",
       "      <th>3</th>\n",
       "      <td>2015-01-07</td>\n",
       "      <td>14.063333</td>\n",
       "    </tr>\n",
       "    <tr>\n",
       "      <th>4</th>\n",
       "      <td>2015-01-08</td>\n",
       "      <td>14.041333</td>\n",
       "    </tr>\n",
       "    <tr>\n",
       "      <th>...</th>\n",
       "      <td>...</td>\n",
       "      <td>...</td>\n",
       "    </tr>\n",
       "    <tr>\n",
       "      <th>2555</th>\n",
       "      <td>2025-03-03</td>\n",
       "      <td>284.649994</td>\n",
       "    </tr>\n",
       "    <tr>\n",
       "      <th>2556</th>\n",
       "      <td>2025-03-04</td>\n",
       "      <td>272.040009</td>\n",
       "    </tr>\n",
       "    <tr>\n",
       "      <th>2557</th>\n",
       "      <td>2025-03-05</td>\n",
       "      <td>279.100006</td>\n",
       "    </tr>\n",
       "    <tr>\n",
       "      <th>2558</th>\n",
       "      <td>2025-03-06</td>\n",
       "      <td>263.450012</td>\n",
       "    </tr>\n",
       "    <tr>\n",
       "      <th>2559</th>\n",
       "      <td>2025-03-07</td>\n",
       "      <td>262.670013</td>\n",
       "    </tr>\n",
       "  </tbody>\n",
       "</table>\n",
       "<p>2560 rows × 2 columns</p>\n",
       "</div>"
      ],
      "text/plain": [
       "           Date       Close\n",
       "0    2015-01-02   14.620667\n",
       "1    2015-01-05   14.006000\n",
       "2    2015-01-06   14.085333\n",
       "3    2015-01-07   14.063333\n",
       "4    2015-01-08   14.041333\n",
       "...         ...         ...\n",
       "2555 2025-03-03  284.649994\n",
       "2556 2025-03-04  272.040009\n",
       "2557 2025-03-05  279.100006\n",
       "2558 2025-03-06  263.450012\n",
       "2559 2025-03-07  262.670013\n",
       "\n",
       "[2560 rows x 2 columns]"
      ]
     },
     "execution_count": 113,
     "metadata": {},
     "output_type": "execute_result"
    }
   ],
   "source": [
    "# Download stock prices from 2015 to the current stock price from Yahoo Finance\n",
    "ticker = ['TSLA']\n",
    "df_prices = pd.DataFrame()\n",
    "\n",
    "start_date = \"2015-01-01\"\n",
    "end_date = datetime.date.today() # today's date\n",
    "stock_prices = yf.download(ticker, start_date, end_date, progress = False)\n",
    "\n",
    "stock_prices.columns = stock_prices.columns.droplevel(1)  # Drop the \"Ticker\" level\n",
    "\n",
    "stock_prices = stock_prices.reset_index()\n",
    "df_prices[\"Date\"] = stock_prices[\"Date\"]\n",
    "df_prices[\"Close\"] = stock_prices[\"Close\"]\n",
    "df_prices"
   ]
  },
  {
   "cell_type": "code",
   "execution_count": 114,
   "id": "a56f6a61-ec95-47b6-abfc-4ebec4800168",
   "metadata": {},
   "outputs": [
    {
     "data": {
      "image/png": "[encoded data removed]",
      "text/plain": [
       "<Figure size 1600x500 with 1 Axes>"
      ]
     },
     "metadata": {},
     "output_type": "display_data"
    }
   ],
   "source": [
    "# Plot the line chart of the closing prices\n",
    "plt.figure(figsize=(16, 5)) \n",
    "plt.plot(df_prices['Date'], df_prices[\"Close\"], color='b')\n",
    "plt.xlabel(\"Date\")\n",
    "plt.ylabel(\"Closing Price ($)\")\n",
    "plt.title(ticker[0] +\" Closing Prices\", size=15)\n",
    "\n",
    "plt.grid(True)\n",
    "plt.show()"
   ]
  },
  {
   "cell_type": "markdown",
   "id": "6f94d1d0-2e69-433a-9281-1321d04e1348",
   "metadata": {},
   "source": [
    "### **(2) Normalize Stock Prices**"
   ]
  },
  {
   "cell_type": "code",
   "execution_count": 115,
   "id": "312aa753-3e11-4c3d-b69b-1f38b0672950",
   "metadata": {},
   "outputs": [
    {
     "data": {
      "text/plain": [
       "array([[ 14.62066746],\n",
       "       [ 14.00599957],\n",
       "       [ 14.08533287],\n",
       "       ...,\n",
       "       [279.1000061 ],\n",
       "       [263.45001221],\n",
       "       [262.67001343]])"
      ]
     },
     "execution_count": 115,
     "metadata": {},
     "output_type": "execute_result"
    }
   ],
   "source": [
    "prices = df_prices[['Close']].values # get the closing prices in 2-D array\n",
    "prices"
   ]
  },
  {
   "cell_type": "code",
   "execution_count": 116,
   "id": "14b7a42c-ec6f-4305-ac36-4913b3e84abb",
   "metadata": {},
   "outputs": [
    {
     "data": {
      "text/plain": [
       "array([[0.01072265],\n",
       "       [0.00941563],\n",
       "       [0.00958432],\n",
       "       ...,\n",
       "       [0.57310723],\n",
       "       [0.53982934],\n",
       "       [0.53817076]])"
      ]
     },
     "execution_count": 116,
     "metadata": {},
     "output_type": "execute_result"
    }
   ],
   "source": [
    "# Normalize stock prices between 0 and 1\n",
    "scaler = MinMaxScaler()\n",
    "prices_scaled = scaler.fit_transform(prices)\n",
    "prices_scaled"
   ]
  },
  {
   "cell_type": "markdown",
   "id": "84f02888-387d-46c0-8437-508bfc1474ec",
   "metadata": {},
   "source": [
    "### **(3) Create Training and Testing Data**"
   ]
  },
  {
   "cell_type": "code",
   "execution_count": 117,
   "id": "a53b19a8-322d-4a04-a761-2a23d7bcfe7e",
   "metadata": {},
   "outputs": [],
   "source": [
    "# Create lists for features and target labels\n",
    "X = [] # input features\n",
    "y = [] # target labels\n",
    "\n",
    "sequence_length = 50  # Use the past 50 stock prices to predict the next stock price\n",
    "for i in range(sequence_length, len(prices_scaled)):\n",
    "    X.append(prices_scaled[i-sequence_length:i, 0])\n",
    "    y.append(prices_scaled[i, 0])"
   ]
  },
  {
   "cell_type": "code",
   "execution_count": 118,
   "id": "68a9a0c9-e0d0-4070-a7da-7956efc4ce22",
   "metadata": {},
   "outputs": [],
   "source": [
    "# Convert the data into array format\n",
    "X = np.asarray(X)\n",
    "y = np.asarray(y)"
   ]
  },
  {
   "cell_type": "code",
   "execution_count": 119,
   "id": "268ec5aa-14bc-476f-872f-81a90db2e90e",
   "metadata": {},
   "outputs": [],
   "source": [
    "# Split the data into training (70%) and testing data (30%)\n",
    "split = int(0.7 * len(X))\n",
    "X_train = X[:split]\n",
    "y_train = y[:split]\n",
    "X_test = X[split:]\n",
    "y_test = y[split:]"
   ]
  },
  {
   "cell_type": "code",
   "execution_count": 120,
   "id": "97489cbe-f585-48f2-a2e9-43fe9f55334f",
   "metadata": {},
   "outputs": [
    {
     "data": {
      "text/plain": [
       "((1757, 50, 1), (753, 50, 1))"
      ]
     },
     "execution_count": 120,
     "metadata": {},
     "output_type": "execute_result"
    }
   ],
   "source": [
    "# Reshape the 1D arrays to 3D arrays for feeding into the LSTM model\n",
    "X_train = np.reshape(X_train, (X_train.shape[0], X_train.shape[1], 1))\n",
    "X_test = np.reshape(X_test, (X_test.shape[0], X_test.shape[1], 1))\n",
    "X_train.shape, X_test.shape"
   ]
  },
  {
   "cell_type": "markdown",
   "id": "5e19f14d-8f47-4764-abda-9841c02c8650",
   "metadata": {},
   "source": [
    "### **(4) Build LSTM Autoencoder**"
   ]
  },
  {
   "cell_type": "code",
   "execution_count": 121,
   "id": "e6b40543-3fce-4128-875d-7ea1d5b06b97",
   "metadata": {},
   "outputs": [
    {
     "data": {
      "text/html": [
       "<pre style=\"white-space:pre;overflow-x:auto;line-height:normal;font-family:Menlo,'DejaVu Sans Mono',consolas,'Courier New',monospace\"><span style=\"font-weight: bold\">Model: \"functional_5\"</span>\n",
       "</pre>\n"
      ],
      "text/plain": [
       "\u001b[1mModel: \"functional_5\"\u001b[0m\n"
      ]
     },
     "metadata": {},
     "output_type": "display_data"
    },
    {
     "data": {
      "text/html": [
       "<pre style=\"white-space:pre;overflow-x:auto;line-height:normal;font-family:Menlo,'DejaVu Sans Mono',consolas,'Courier New',monospace\">┏━━━━━━━━━━━━━━━━━━━━━━━━━━━━━━━━━━━━━━┳━━━━━━━━━━━━━━━━━━━━━━━━━━━━━┳━━━━━━━━━━━━━━━━━┓\n",
       "┃<span style=\"font-weight: bold\"> Layer (type)                         </span>┃<span style=\"font-weight: bold\"> Output Shape                </span>┃<span style=\"font-weight: bold\">         Param # </span>┃\n",
       "┡━━━━━━━━━━━━━━━━━━━━━━━━━━━━━━━━━━━━━━╇━━━━━━━━━━━━━━━━━━━━━━━━━━━━━╇━━━━━━━━━━━━━━━━━┩\n",
       "│ input_layer_5 (<span style=\"color: #0087ff; text-decoration-color: #0087ff\">InputLayer</span>)           │ (<span style=\"color: #00d7ff; text-decoration-color: #00d7ff\">None</span>, <span style=\"color: #00af00; text-decoration-color: #00af00\">50</span>, <span style=\"color: #00af00; text-decoration-color: #00af00\">1</span>)               │               <span style=\"color: #00af00; text-decoration-color: #00af00\">0</span> │\n",
       "├──────────────────────────────────────┼─────────────────────────────┼─────────────────┤\n",
       "│ lstm_15 (<span style=\"color: #0087ff; text-decoration-color: #0087ff\">LSTM</span>)                       │ (<span style=\"color: #00d7ff; text-decoration-color: #00d7ff\">None</span>, <span style=\"color: #00af00; text-decoration-color: #00af00\">50</span>, <span style=\"color: #00af00; text-decoration-color: #00af00\">150</span>)             │          <span style=\"color: #00af00; text-decoration-color: #00af00\">91,200</span> │\n",
       "├──────────────────────────────────────┼─────────────────────────────┼─────────────────┤\n",
       "│ dropout_10 (<span style=\"color: #0087ff; text-decoration-color: #0087ff\">Dropout</span>)                 │ (<span style=\"color: #00d7ff; text-decoration-color: #00d7ff\">None</span>, <span style=\"color: #00af00; text-decoration-color: #00af00\">50</span>, <span style=\"color: #00af00; text-decoration-color: #00af00\">150</span>)             │               <span style=\"color: #00af00; text-decoration-color: #00af00\">0</span> │\n",
       "├──────────────────────────────────────┼─────────────────────────────┼─────────────────┤\n",
       "│ lstm_16 (<span style=\"color: #0087ff; text-decoration-color: #0087ff\">LSTM</span>)                       │ (<span style=\"color: #00d7ff; text-decoration-color: #00d7ff\">None</span>, <span style=\"color: #00af00; text-decoration-color: #00af00\">50</span>, <span style=\"color: #00af00; text-decoration-color: #00af00\">150</span>)             │         <span style=\"color: #00af00; text-decoration-color: #00af00\">180,600</span> │\n",
       "├──────────────────────────────────────┼─────────────────────────────┼─────────────────┤\n",
       "│ dropout_11 (<span style=\"color: #0087ff; text-decoration-color: #0087ff\">Dropout</span>)                 │ (<span style=\"color: #00d7ff; text-decoration-color: #00d7ff\">None</span>, <span style=\"color: #00af00; text-decoration-color: #00af00\">50</span>, <span style=\"color: #00af00; text-decoration-color: #00af00\">150</span>)             │               <span style=\"color: #00af00; text-decoration-color: #00af00\">0</span> │\n",
       "├──────────────────────────────────────┼─────────────────────────────┼─────────────────┤\n",
       "│ lstm_17 (<span style=\"color: #0087ff; text-decoration-color: #0087ff\">LSTM</span>)                       │ (<span style=\"color: #00d7ff; text-decoration-color: #00d7ff\">None</span>, <span style=\"color: #00af00; text-decoration-color: #00af00\">150</span>)                 │         <span style=\"color: #00af00; text-decoration-color: #00af00\">180,600</span> │\n",
       "├──────────────────────────────────────┼─────────────────────────────┼─────────────────┤\n",
       "│ dense_5 (<span style=\"color: #0087ff; text-decoration-color: #0087ff\">Dense</span>)                      │ (<span style=\"color: #00d7ff; text-decoration-color: #00d7ff\">None</span>, <span style=\"color: #00af00; text-decoration-color: #00af00\">1</span>)                   │             <span style=\"color: #00af00; text-decoration-color: #00af00\">151</span> │\n",
       "└──────────────────────────────────────┴─────────────────────────────┴─────────────────┘\n",
       "</pre>\n"
      ],
      "text/plain": [
       "┏━━━━━━━━━━━━━━━━━━━━━━━━━━━━━━━━━━━━━━┳━━━━━━━━━━━━━━━━━━━━━━━━━━━━━┳━━━━━━━━━━━━━━━━━┓\n",
       "┃\u001b[1m \u001b[0m\u001b[1mLayer (type)                        \u001b[0m\u001b[1m \u001b[0m┃\u001b[1m \u001b[0m\u001b[1mOutput Shape               \u001b[0m\u001b[1m \u001b[0m┃\u001b[1m \u001b[0m\u001b[1m        Param #\u001b[0m\u001b[1m \u001b[0m┃\n",
       "┡━━━━━━━━━━━━━━━━━━━━━━━━━━━━━━━━━━━━━━╇━━━━━━━━━━━━━━━━━━━━━━━━━━━━━╇━━━━━━━━━━━━━━━━━┩\n",
       "│ input_layer_5 (\u001b[38;5;33mInputLayer\u001b[0m)           │ (\u001b[38;5;45mNone\u001b[0m, \u001b[38;5;34m50\u001b[0m, \u001b[38;5;34m1\u001b[0m)               │               \u001b[38;5;34m0\u001b[0m │\n",
       "├──────────────────────────────────────┼─────────────────────────────┼─────────────────┤\n",
       "│ lstm_15 (\u001b[38;5;33mLSTM\u001b[0m)                       │ (\u001b[38;5;45mNone\u001b[0m, \u001b[38;5;34m50\u001b[0m, \u001b[38;5;34m150\u001b[0m)             │          \u001b[38;5;34m91,200\u001b[0m │\n",
       "├──────────────────────────────────────┼─────────────────────────────┼─────────────────┤\n",
       "│ dropout_10 (\u001b[38;5;33mDropout\u001b[0m)                 │ (\u001b[38;5;45mNone\u001b[0m, \u001b[38;5;34m50\u001b[0m, \u001b[38;5;34m150\u001b[0m)             │               \u001b[38;5;34m0\u001b[0m │\n",
       "├──────────────────────────────────────┼─────────────────────────────┼─────────────────┤\n",
       "│ lstm_16 (\u001b[38;5;33mLSTM\u001b[0m)                       │ (\u001b[38;5;45mNone\u001b[0m, \u001b[38;5;34m50\u001b[0m, \u001b[38;5;34m150\u001b[0m)             │         \u001b[38;5;34m180,600\u001b[0m │\n",
       "├──────────────────────────────────────┼─────────────────────────────┼─────────────────┤\n",
       "│ dropout_11 (\u001b[38;5;33mDropout\u001b[0m)                 │ (\u001b[38;5;45mNone\u001b[0m, \u001b[38;5;34m50\u001b[0m, \u001b[38;5;34m150\u001b[0m)             │               \u001b[38;5;34m0\u001b[0m │\n",
       "├──────────────────────────────────────┼─────────────────────────────┼─────────────────┤\n",
       "│ lstm_17 (\u001b[38;5;33mLSTM\u001b[0m)                       │ (\u001b[38;5;45mNone\u001b[0m, \u001b[38;5;34m150\u001b[0m)                 │         \u001b[38;5;34m180,600\u001b[0m │\n",
       "├──────────────────────────────────────┼─────────────────────────────┼─────────────────┤\n",
       "│ dense_5 (\u001b[38;5;33mDense\u001b[0m)                      │ (\u001b[38;5;45mNone\u001b[0m, \u001b[38;5;34m1\u001b[0m)                   │             \u001b[38;5;34m151\u001b[0m │\n",
       "└──────────────────────────────────────┴─────────────────────────────┴─────────────────┘\n"
      ]
     },
     "metadata": {},
     "output_type": "display_data"
    },
    {
     "data": {
      "text/html": [
       "<pre style=\"white-space:pre;overflow-x:auto;line-height:normal;font-family:Menlo,'DejaVu Sans Mono',consolas,'Courier New',monospace\"><span style=\"font-weight: bold\"> Total params: </span><span style=\"color: #00af00; text-decoration-color: #00af00\">452,551</span> (1.73 MB)\n",
       "</pre>\n"
      ],
      "text/plain": [
       "\u001b[1m Total params: \u001b[0m\u001b[38;5;34m452,551\u001b[0m (1.73 MB)\n"
      ]
     },
     "metadata": {},
     "output_type": "display_data"
    },
    {
     "data": {
      "text/html": [
       "<pre style=\"white-space:pre;overflow-x:auto;line-height:normal;font-family:Menlo,'DejaVu Sans Mono',consolas,'Courier New',monospace\"><span style=\"font-weight: bold\"> Trainable params: </span><span style=\"color: #00af00; text-decoration-color: #00af00\">452,551</span> (1.73 MB)\n",
       "</pre>\n"
      ],
      "text/plain": [
       "\u001b[1m Trainable params: \u001b[0m\u001b[38;5;34m452,551\u001b[0m (1.73 MB)\n"
      ]
     },
     "metadata": {},
     "output_type": "display_data"
    },
    {
     "data": {
      "text/html": [
       "<pre style=\"white-space:pre;overflow-x:auto;line-height:normal;font-family:Menlo,'DejaVu Sans Mono',consolas,'Courier New',monospace\"><span style=\"font-weight: bold\"> Non-trainable params: </span><span style=\"color: #00af00; text-decoration-color: #00af00\">0</span> (0.00 B)\n",
       "</pre>\n"
      ],
      "text/plain": [
       "\u001b[1m Non-trainable params: \u001b[0m\u001b[38;5;34m0\u001b[0m (0.00 B)\n"
      ]
     },
     "metadata": {},
     "output_type": "display_data"
    }
   ],
   "source": [
    "# Create the model\n",
    "inputs = keras.layers.Input(shape=(X_train.shape[1], X_train.shape[2])) # Input layer\n",
    "\n",
    "# set 150 neutrons for each LSTM layer with dropout rate of 0.3\n",
    "x = keras.layers.LSTM(150, return_sequences= True)(inputs) # 1st layer\n",
    "x = keras.layers.Dropout(0.3)(x)\n",
    "x = keras.layers.LSTM(150, return_sequences=True)(x) # 2nd layer\n",
    "x = keras.layers.Dropout(0.3)(x)\n",
    "x = keras.layers.LSTM(150)(x) # Output layer\n",
    "outputs = keras.layers.Dense(1, activation='linear')(x)\n",
    "\n",
    "model = keras.Model(inputs=inputs, outputs=outputs)\n",
    "model.compile(optimizer='adam', loss=\"mse\")\n",
    "model.summary()"
   ]
  },
  {
   "cell_type": "code",
   "execution_count": 122,
   "id": "cc7ff8cf-32bf-4265-b149-2adc620923af",
   "metadata": {},
   "outputs": [
    {
     "name": "stdout",
     "output_type": "stream",
     "text": [
      "Epoch 1/20\n",
      "\u001b[1m99/99\u001b[0m \u001b[32m━━━━━━━━━━━━━━━━━━━━\u001b[0m\u001b[37m\u001b[0m \u001b[1m25s\u001b[0m 139ms/step - loss: 2.9396e-04 - val_loss: 0.0284\n",
      "Epoch 2/20\n",
      "\u001b[1m99/99\u001b[0m \u001b[32m━━━━━━━━━━━━━━━━━━━━\u001b[0m\u001b[37m\u001b[0m \u001b[1m12s\u001b[0m 123ms/step - loss: 0.0103 - val_loss: 0.0700\n",
      "Epoch 3/20\n",
      "\u001b[1m99/99\u001b[0m \u001b[32m━━━━━━━━━━━━━━━━━━━━\u001b[0m\u001b[37m\u001b[0m \u001b[1m13s\u001b[0m 126ms/step - loss: 0.0137 - val_loss: 0.0503\n",
      "Epoch 4/20\n",
      "\u001b[1m99/99\u001b[0m \u001b[32m━━━━━━━━━━━━━━━━━━━━\u001b[0m\u001b[37m\u001b[0m \u001b[1m13s\u001b[0m 126ms/step - loss: 0.0074 - val_loss: 0.0109\n",
      "Epoch 5/20\n",
      "\u001b[1m99/99\u001b[0m \u001b[32m━━━━━━━━━━━━━━━━━━━━\u001b[0m\u001b[37m\u001b[0m \u001b[1m12s\u001b[0m 125ms/step - loss: 0.0161 - val_loss: 0.0068\n",
      "Epoch 6/20\n",
      "\u001b[1m99/99\u001b[0m \u001b[32m━━━━━━━━━━━━━━━━━━━━\u001b[0m\u001b[37m\u001b[0m \u001b[1m13s\u001b[0m 129ms/step - loss: 0.0176 - val_loss: 0.0047\n",
      "Epoch 7/20\n",
      "\u001b[1m99/99\u001b[0m \u001b[32m━━━━━━━━━━━━━━━━━━━━\u001b[0m\u001b[37m\u001b[0m \u001b[1m13s\u001b[0m 129ms/step - loss: 0.0098 - val_loss: 0.0027\n",
      "Epoch 8/20\n",
      "\u001b[1m99/99\u001b[0m \u001b[32m━━━━━━━━━━━━━━━━━━━━\u001b[0m\u001b[37m\u001b[0m \u001b[1m12s\u001b[0m 123ms/step - loss: 0.0062 - val_loss: 0.0043\n",
      "Epoch 9/20\n",
      "\u001b[1m99/99\u001b[0m \u001b[32m━━━━━━━━━━━━━━━━━━━━\u001b[0m\u001b[37m\u001b[0m \u001b[1m13s\u001b[0m 127ms/step - loss: 0.0030 - val_loss: 0.0022\n",
      "Epoch 10/20\n",
      "\u001b[1m99/99\u001b[0m \u001b[32m━━━━━━━━━━━━━━━━━━━━\u001b[0m\u001b[37m\u001b[0m \u001b[1m13s\u001b[0m 128ms/step - loss: 0.0017 - val_loss: 0.0017\n",
      "Epoch 11/20\n",
      "\u001b[1m99/99\u001b[0m \u001b[32m━━━━━━━━━━━━━━━━━━━━\u001b[0m\u001b[37m\u001b[0m \u001b[1m13s\u001b[0m 125ms/step - loss: 0.0011 - val_loss: 0.0017\n",
      "Epoch 12/20\n",
      "\u001b[1m99/99\u001b[0m \u001b[32m━━━━━━━━━━━━━━━━━━━━\u001b[0m\u001b[37m\u001b[0m \u001b[1m12s\u001b[0m 125ms/step - loss: 9.5238e-04 - val_loss: 0.0018\n",
      "Epoch 13/20\n",
      "\u001b[1m99/99\u001b[0m \u001b[32m━━━━━━━━━━━━━━━━━━━━\u001b[0m\u001b[37m\u001b[0m \u001b[1m12s\u001b[0m 121ms/step - loss: 8.6295e-04 - val_loss: 0.0017\n",
      "Epoch 14/20\n",
      "\u001b[1m99/99\u001b[0m \u001b[32m━━━━━━━━━━━━━━━━━━━━\u001b[0m\u001b[37m\u001b[0m \u001b[1m13s\u001b[0m 131ms/step - loss: 0.0011 - val_loss: 0.0017\n"
     ]
    }
   ],
   "source": [
    "# Fitting the model with the training data\n",
    "# Add EarlyStopping to prevent overfitting\n",
    "history = model.fit(X_train, y_train, epochs=20, batch_size=16, validation_split=0.1,\n",
    "                    callbacks=[keras.callbacks.EarlyStopping(monitor='val_loss', patience=3, mode='min')], shuffle=False)"
   ]
  },
  {
   "cell_type": "markdown",
   "id": "595a2b4d-ce13-4d08-9201-d87379ab17a8",
   "metadata": {},
   "source": [
    "### **(5) Predict Stock Prices and Detect Anomalies**"
   ]
  },
  {
   "cell_type": "code",
   "execution_count": 123,
   "id": "093243d1-9326-48c0-bd94-e439569e442e",
   "metadata": {},
   "outputs": [
    {
     "data": {
      "text/plain": [
       "(1757, 1)"
      ]
     },
     "execution_count": 123,
     "metadata": {},
     "output_type": "execute_result"
    }
   ],
   "source": [
    "# Make prediction of the training data\n",
    "predicted_train = model.predict(X_train, verbose=0)\n",
    "predicted_train.shape"
   ]
  },
  {
   "cell_type": "code",
   "execution_count": 124,
   "id": "e265d5cc-8279-44e1-a285-ce32610f1a77",
   "metadata": {},
   "outputs": [
    {
     "data": {
      "text/plain": [
       "(1757, 50)"
      ]
     },
     "execution_count": 124,
     "metadata": {},
     "output_type": "execute_result"
    }
   ],
   "source": [
    "# Reshape the prediction to 2D array for comparison\n",
    "X_train_reshaped = X_train.reshape(X_train.shape[0], -1)  \n",
    "X_train_reshaped.shape"
   ]
  },
  {
   "cell_type": "code",
   "execution_count": 125,
   "id": "b677f480-bd05-461d-b679-be55b43d8125",
   "metadata": {},
   "outputs": [
    {
     "name": "stdout",
     "output_type": "stream",
     "text": [
      "Reconstruction error threshold:  0.16401771523410338\n"
     ]
    },
    {
     "data": {
      "image/png": "[encoded data removed]",
      "text/plain": [
       "<Figure size 640x480 with 1 Axes>"
      ]
     },
     "metadata": {},
     "output_type": "display_data"
    }
   ],
   "source": [
    "# Calculate the mean absolute error of the training data\n",
    "train_mae_loss = np.mean(np.abs(predicted_train - X_train_reshaped), axis=1)\n",
    "\n",
    "plt.hist(train_mae_loss, bins=50)\n",
    "plt.xlabel('Train MAE loss')\n",
    "plt.ylabel('Number of Samples')\n",
    "\n",
    "threshold = np.percentile(train_mae_loss, 99)  # Set the top 1% as anomalies\n",
    "print(\"Reconstruction error threshold: \",threshold)"
   ]
  },
  {
   "cell_type": "code",
   "execution_count": 126,
   "id": "7cc66976-1080-4471-983f-37096f5cafa9",
   "metadata": {},
   "outputs": [
    {
     "data": {
      "text/plain": [
       "(753, 1)"
      ]
     },
     "execution_count": 126,
     "metadata": {},
     "output_type": "execute_result"
    }
   ],
   "source": [
    "# Make prediction of the testing data\n",
    "predicted_test = model.predict(X_test, verbose=0)\n",
    "predicted_test.shape"
   ]
  },
  {
   "cell_type": "code",
   "execution_count": 127,
   "id": "06cb5ada-97ae-496b-b8ec-81f1d3a7c10c",
   "metadata": {},
   "outputs": [
    {
     "data": {
      "text/plain": [
       "(753, 50)"
      ]
     },
     "execution_count": 127,
     "metadata": {},
     "output_type": "execute_result"
    }
   ],
   "source": [
    "# Reshape the prediction to 2D array for comparison\n",
    "X_test_reshaped = X_test.reshape(X_test.shape[0], -1)  \n",
    "X_test_reshaped.shape"
   ]
  },
  {
   "cell_type": "code",
   "execution_count": 128,
   "id": "9a2b49ba-8d5c-414a-a954-6a7a967995f6",
   "metadata": {},
   "outputs": [],
   "source": [
    "# Calculate the mean absolute error of the testing data\n",
    "test_mae_loss = np.mean(np.abs(predicted_test-X_test_reshaped), axis=1)"
   ]
  },
  {
   "cell_type": "code",
   "execution_count": 129,
   "id": "973b2a63-c585-4e34-959a-e48c7c70eae5",
   "metadata": {},
   "outputs": [
    {
     "data": {
      "text/plain": [
       "Text(0, 0.5, 'Number of Samples')"
      ]
     },
     "execution_count": 129,
     "metadata": {},
     "output_type": "execute_result"
    },
    {
     "data": {
      "image/png": "[encoded data removed]",
      "text/plain": [
       "<Figure size 640x480 with 1 Axes>"
      ]
     },
     "metadata": {},
     "output_type": "display_data"
    }
   ],
   "source": [
    "# Calculate the mean absolute error of the training data\n",
    "test_mae_loss = np.mean(np.abs(predicted_test - X_test_reshaped), axis=1)\n",
    "\n",
    "plt.hist(test_mae_loss, bins=50)\n",
    "plt.xlabel('Test MAE loss')\n",
    "plt.ylabel('Number of Samples')"
   ]
  },
  {
   "cell_type": "code",
   "execution_count": 130,
   "id": "45ed86f8-6503-4ed2-bf3c-d8bdcf139bf5",
   "metadata": {},
   "outputs": [
    {
     "data": {
      "text/html": [
       "<div>\n",
       "<style scoped>\n",
       "    .dataframe tbody tr th:only-of-type {\n",
       "        vertical-align: middle;\n",
       "    }\n",
       "\n",
       "    .dataframe tbody tr th {\n",
       "        vertical-align: top;\n",
       "    }\n",
       "\n",
       "    .dataframe thead th {\n",
       "        text-align: right;\n",
       "    }\n",
       "</style>\n",
       "<table border=\"1\" class=\"dataframe\">\n",
       "  <thead>\n",
       "    <tr style=\"text-align: right;\">\n",
       "      <th></th>\n",
       "      <th>Date</th>\n",
       "      <th>Close</th>\n",
       "      <th>MAE_Loss</th>\n",
       "      <th>Threshold</th>\n",
       "      <th>Anomaly</th>\n",
       "    </tr>\n",
       "  </thead>\n",
       "  <tbody>\n",
       "    <tr>\n",
       "      <th>1807</th>\n",
       "      <td>2022-03-08</td>\n",
       "      <td>274.799988</td>\n",
       "      <td>0.075138</td>\n",
       "      <td>0.164018</td>\n",
       "      <td>False</td>\n",
       "    </tr>\n",
       "    <tr>\n",
       "      <th>1808</th>\n",
       "      <td>2022-03-09</td>\n",
       "      <td>286.323334</td>\n",
       "      <td>0.073266</td>\n",
       "      <td>0.164018</td>\n",
       "      <td>False</td>\n",
       "    </tr>\n",
       "    <tr>\n",
       "      <th>1809</th>\n",
       "      <td>2022-03-10</td>\n",
       "      <td>279.433319</td>\n",
       "      <td>0.069717</td>\n",
       "      <td>0.164018</td>\n",
       "      <td>False</td>\n",
       "    </tr>\n",
       "    <tr>\n",
       "      <th>1810</th>\n",
       "      <td>2022-03-11</td>\n",
       "      <td>265.116669</td>\n",
       "      <td>0.066693</td>\n",
       "      <td>0.164018</td>\n",
       "      <td>False</td>\n",
       "    </tr>\n",
       "    <tr>\n",
       "      <th>1811</th>\n",
       "      <td>2022-03-14</td>\n",
       "      <td>255.456665</td>\n",
       "      <td>0.065644</td>\n",
       "      <td>0.164018</td>\n",
       "      <td>False</td>\n",
       "    </tr>\n",
       "    <tr>\n",
       "      <th>...</th>\n",
       "      <td>...</td>\n",
       "      <td>...</td>\n",
       "      <td>...</td>\n",
       "      <td>...</td>\n",
       "      <td>...</td>\n",
       "    </tr>\n",
       "    <tr>\n",
       "      <th>2555</th>\n",
       "      <td>2025-03-03</td>\n",
       "      <td>284.649994</td>\n",
       "      <td>0.173543</td>\n",
       "      <td>0.164018</td>\n",
       "      <td>True</td>\n",
       "    </tr>\n",
       "    <tr>\n",
       "      <th>2556</th>\n",
       "      <td>2025-03-04</td>\n",
       "      <td>272.040009</td>\n",
       "      <td>0.182528</td>\n",
       "      <td>0.164018</td>\n",
       "      <td>True</td>\n",
       "    </tr>\n",
       "    <tr>\n",
       "      <th>2557</th>\n",
       "      <td>2025-03-05</td>\n",
       "      <td>279.100006</td>\n",
       "      <td>0.190051</td>\n",
       "      <td>0.164018</td>\n",
       "      <td>True</td>\n",
       "    </tr>\n",
       "    <tr>\n",
       "      <th>2558</th>\n",
       "      <td>2025-03-06</td>\n",
       "      <td>263.450012</td>\n",
       "      <td>0.195589</td>\n",
       "      <td>0.164018</td>\n",
       "      <td>True</td>\n",
       "    </tr>\n",
       "    <tr>\n",
       "      <th>2559</th>\n",
       "      <td>2025-03-07</td>\n",
       "      <td>262.670013</td>\n",
       "      <td>0.200407</td>\n",
       "      <td>0.164018</td>\n",
       "      <td>True</td>\n",
       "    </tr>\n",
       "  </tbody>\n",
       "</table>\n",
       "<p>753 rows × 5 columns</p>\n",
       "</div>"
      ],
      "text/plain": [
       "           Date       Close  MAE_Loss  Threshold  Anomaly\n",
       "1807 2022-03-08  274.799988  0.075138   0.164018    False\n",
       "1808 2022-03-09  286.323334  0.073266   0.164018    False\n",
       "1809 2022-03-10  279.433319  0.069717   0.164018    False\n",
       "1810 2022-03-11  265.116669  0.066693   0.164018    False\n",
       "1811 2022-03-14  255.456665  0.065644   0.164018    False\n",
       "...         ...         ...       ...        ...      ...\n",
       "2555 2025-03-03  284.649994  0.173543   0.164018     True\n",
       "2556 2025-03-04  272.040009  0.182528   0.164018     True\n",
       "2557 2025-03-05  279.100006  0.190051   0.164018     True\n",
       "2558 2025-03-06  263.450012  0.195589   0.164018     True\n",
       "2559 2025-03-07  262.670013  0.200407   0.164018     True\n",
       "\n",
       "[753 rows x 5 columns]"
      ]
     },
     "execution_count": 130,
     "metadata": {},
     "output_type": "execute_result"
    }
   ],
   "source": [
    "# Create a dataframe for storing the results of anomalies for the test data\n",
    "test_anomaly = df_prices[split+sequence_length:][['Date']]\n",
    "test_anomaly['Close'] = df_prices[split+sequence_length:]['Close']\n",
    "test_anomaly['MAE_Loss'] = test_mae_loss\n",
    "test_anomaly['Threshold'] = threshold\n",
    "test_anomaly['Anomaly'] = test_anomaly['MAE_Loss'] > test_anomaly['Threshold'] # check whether a particular price is anomaly or not\n",
    "\n",
    "test_anomaly"
   ]
  },
  {
   "cell_type": "code",
   "execution_count": 131,
   "id": "1a296849-4218-4f84-a70d-8201ac26b39a",
   "metadata": {},
   "outputs": [
    {
     "data": {
      "text/html": [
       "<div>\n",
       "<style scoped>\n",
       "    .dataframe tbody tr th:only-of-type {\n",
       "        vertical-align: middle;\n",
       "    }\n",
       "\n",
       "    .dataframe tbody tr th {\n",
       "        vertical-align: top;\n",
       "    }\n",
       "\n",
       "    .dataframe thead th {\n",
       "        text-align: right;\n",
       "    }\n",
       "</style>\n",
       "<table border=\"1\" class=\"dataframe\">\n",
       "  <thead>\n",
       "    <tr style=\"text-align: right;\">\n",
       "      <th></th>\n",
       "      <th>Date</th>\n",
       "      <th>Close</th>\n",
       "      <th>MAE_Loss</th>\n",
       "      <th>Threshold</th>\n",
       "      <th>Anomaly</th>\n",
       "    </tr>\n",
       "  </thead>\n",
       "  <tbody>\n",
       "    <tr>\n",
       "      <th>2129</th>\n",
       "      <td>2023-06-20</td>\n",
       "      <td>274.450012</td>\n",
       "      <td>0.164936</td>\n",
       "      <td>0.164018</td>\n",
       "      <td>True</td>\n",
       "    </tr>\n",
       "    <tr>\n",
       "      <th>2130</th>\n",
       "      <td>2023-06-21</td>\n",
       "      <td>259.459991</td>\n",
       "      <td>0.169992</td>\n",
       "      <td>0.164018</td>\n",
       "      <td>True</td>\n",
       "    </tr>\n",
       "    <tr>\n",
       "      <th>2131</th>\n",
       "      <td>2023-06-22</td>\n",
       "      <td>264.609985</td>\n",
       "      <td>0.172019</td>\n",
       "      <td>0.164018</td>\n",
       "      <td>True</td>\n",
       "    </tr>\n",
       "    <tr>\n",
       "      <th>2132</th>\n",
       "      <td>2023-06-23</td>\n",
       "      <td>256.600006</td>\n",
       "      <td>0.172074</td>\n",
       "      <td>0.164018</td>\n",
       "      <td>True</td>\n",
       "    </tr>\n",
       "    <tr>\n",
       "      <th>2133</th>\n",
       "      <td>2023-06-26</td>\n",
       "      <td>241.050003</td>\n",
       "      <td>0.169002</td>\n",
       "      <td>0.164018</td>\n",
       "      <td>True</td>\n",
       "    </tr>\n",
       "    <tr>\n",
       "      <th>2396</th>\n",
       "      <td>2024-07-12</td>\n",
       "      <td>248.229996</td>\n",
       "      <td>0.165481</td>\n",
       "      <td>0.164018</td>\n",
       "      <td>True</td>\n",
       "    </tr>\n",
       "    <tr>\n",
       "      <th>2397</th>\n",
       "      <td>2024-07-15</td>\n",
       "      <td>252.639999</td>\n",
       "      <td>0.166584</td>\n",
       "      <td>0.164018</td>\n",
       "      <td>True</td>\n",
       "    </tr>\n",
       "    <tr>\n",
       "      <th>2398</th>\n",
       "      <td>2024-07-16</td>\n",
       "      <td>256.559998</td>\n",
       "      <td>0.164278</td>\n",
       "      <td>0.164018</td>\n",
       "      <td>True</td>\n",
       "    </tr>\n",
       "    <tr>\n",
       "      <th>2486</th>\n",
       "      <td>2024-11-18</td>\n",
       "      <td>338.739990</td>\n",
       "      <td>0.165814</td>\n",
       "      <td>0.164018</td>\n",
       "      <td>True</td>\n",
       "    </tr>\n",
       "    <tr>\n",
       "      <th>2487</th>\n",
       "      <td>2024-11-19</td>\n",
       "      <td>346.000000</td>\n",
       "      <td>0.167796</td>\n",
       "      <td>0.164018</td>\n",
       "      <td>True</td>\n",
       "    </tr>\n",
       "    <tr>\n",
       "      <th>2488</th>\n",
       "      <td>2024-11-20</td>\n",
       "      <td>342.029999</td>\n",
       "      <td>0.169614</td>\n",
       "      <td>0.164018</td>\n",
       "      <td>True</td>\n",
       "    </tr>\n",
       "    <tr>\n",
       "      <th>2489</th>\n",
       "      <td>2024-11-21</td>\n",
       "      <td>339.640015</td>\n",
       "      <td>0.169223</td>\n",
       "      <td>0.164018</td>\n",
       "      <td>True</td>\n",
       "    </tr>\n",
       "    <tr>\n",
       "      <th>2490</th>\n",
       "      <td>2024-11-22</td>\n",
       "      <td>352.559998</td>\n",
       "      <td>0.166503</td>\n",
       "      <td>0.164018</td>\n",
       "      <td>True</td>\n",
       "    </tr>\n",
       "    <tr>\n",
       "      <th>2491</th>\n",
       "      <td>2024-11-25</td>\n",
       "      <td>338.589996</td>\n",
       "      <td>0.164701</td>\n",
       "      <td>0.164018</td>\n",
       "      <td>True</td>\n",
       "    </tr>\n",
       "    <tr>\n",
       "      <th>2502</th>\n",
       "      <td>2024-12-11</td>\n",
       "      <td>424.769989</td>\n",
       "      <td>0.171920</td>\n",
       "      <td>0.164018</td>\n",
       "      <td>True</td>\n",
       "    </tr>\n",
       "    <tr>\n",
       "      <th>2503</th>\n",
       "      <td>2024-12-12</td>\n",
       "      <td>418.100006</td>\n",
       "      <td>0.185854</td>\n",
       "      <td>0.164018</td>\n",
       "      <td>True</td>\n",
       "    </tr>\n",
       "    <tr>\n",
       "      <th>2504</th>\n",
       "      <td>2024-12-13</td>\n",
       "      <td>436.230011</td>\n",
       "      <td>0.197147</td>\n",
       "      <td>0.164018</td>\n",
       "      <td>True</td>\n",
       "    </tr>\n",
       "    <tr>\n",
       "      <th>2505</th>\n",
       "      <td>2024-12-16</td>\n",
       "      <td>463.019989</td>\n",
       "      <td>0.208478</td>\n",
       "      <td>0.164018</td>\n",
       "      <td>True</td>\n",
       "    </tr>\n",
       "    <tr>\n",
       "      <th>2506</th>\n",
       "      <td>2024-12-17</td>\n",
       "      <td>479.859985</td>\n",
       "      <td>0.223339</td>\n",
       "      <td>0.164018</td>\n",
       "      <td>True</td>\n",
       "    </tr>\n",
       "    <tr>\n",
       "      <th>2507</th>\n",
       "      <td>2024-12-18</td>\n",
       "      <td>440.130005</td>\n",
       "      <td>0.239548</td>\n",
       "      <td>0.164018</td>\n",
       "      <td>True</td>\n",
       "    </tr>\n",
       "    <tr>\n",
       "      <th>2508</th>\n",
       "      <td>2024-12-19</td>\n",
       "      <td>436.170013</td>\n",
       "      <td>0.246546</td>\n",
       "      <td>0.164018</td>\n",
       "      <td>True</td>\n",
       "    </tr>\n",
       "    <tr>\n",
       "      <th>2509</th>\n",
       "      <td>2024-12-20</td>\n",
       "      <td>421.059998</td>\n",
       "      <td>0.245722</td>\n",
       "      <td>0.164018</td>\n",
       "      <td>True</td>\n",
       "    </tr>\n",
       "    <tr>\n",
       "      <th>2510</th>\n",
       "      <td>2024-12-23</td>\n",
       "      <td>430.600006</td>\n",
       "      <td>0.236731</td>\n",
       "      <td>0.164018</td>\n",
       "      <td>True</td>\n",
       "    </tr>\n",
       "    <tr>\n",
       "      <th>2511</th>\n",
       "      <td>2024-12-24</td>\n",
       "      <td>462.279999</td>\n",
       "      <td>0.223244</td>\n",
       "      <td>0.164018</td>\n",
       "      <td>True</td>\n",
       "    </tr>\n",
       "    <tr>\n",
       "      <th>2512</th>\n",
       "      <td>2024-12-26</td>\n",
       "      <td>454.130005</td>\n",
       "      <td>0.214105</td>\n",
       "      <td>0.164018</td>\n",
       "      <td>True</td>\n",
       "    </tr>\n",
       "    <tr>\n",
       "      <th>2513</th>\n",
       "      <td>2024-12-27</td>\n",
       "      <td>431.660004</td>\n",
       "      <td>0.205856</td>\n",
       "      <td>0.164018</td>\n",
       "      <td>True</td>\n",
       "    </tr>\n",
       "    <tr>\n",
       "      <th>2514</th>\n",
       "      <td>2024-12-30</td>\n",
       "      <td>417.410004</td>\n",
       "      <td>0.195279</td>\n",
       "      <td>0.164018</td>\n",
       "      <td>True</td>\n",
       "    </tr>\n",
       "    <tr>\n",
       "      <th>2515</th>\n",
       "      <td>2024-12-31</td>\n",
       "      <td>403.839996</td>\n",
       "      <td>0.182537</td>\n",
       "      <td>0.164018</td>\n",
       "      <td>True</td>\n",
       "    </tr>\n",
       "    <tr>\n",
       "      <th>2516</th>\n",
       "      <td>2025-01-02</td>\n",
       "      <td>379.279999</td>\n",
       "      <td>0.168700</td>\n",
       "      <td>0.164018</td>\n",
       "      <td>True</td>\n",
       "    </tr>\n",
       "    <tr>\n",
       "      <th>2555</th>\n",
       "      <td>2025-03-03</td>\n",
       "      <td>284.649994</td>\n",
       "      <td>0.173543</td>\n",
       "      <td>0.164018</td>\n",
       "      <td>True</td>\n",
       "    </tr>\n",
       "    <tr>\n",
       "      <th>2556</th>\n",
       "      <td>2025-03-04</td>\n",
       "      <td>272.040009</td>\n",
       "      <td>0.182528</td>\n",
       "      <td>0.164018</td>\n",
       "      <td>True</td>\n",
       "    </tr>\n",
       "    <tr>\n",
       "      <th>2557</th>\n",
       "      <td>2025-03-05</td>\n",
       "      <td>279.100006</td>\n",
       "      <td>0.190051</td>\n",
       "      <td>0.164018</td>\n",
       "      <td>True</td>\n",
       "    </tr>\n",
       "    <tr>\n",
       "      <th>2558</th>\n",
       "      <td>2025-03-06</td>\n",
       "      <td>263.450012</td>\n",
       "      <td>0.195589</td>\n",
       "      <td>0.164018</td>\n",
       "      <td>True</td>\n",
       "    </tr>\n",
       "    <tr>\n",
       "      <th>2559</th>\n",
       "      <td>2025-03-07</td>\n",
       "      <td>262.670013</td>\n",
       "      <td>0.200407</td>\n",
       "      <td>0.164018</td>\n",
       "      <td>True</td>\n",
       "    </tr>\n",
       "  </tbody>\n",
       "</table>\n",
       "</div>"
      ],
      "text/plain": [
       "           Date       Close  MAE_Loss  Threshold  Anomaly\n",
       "2129 2023-06-20  274.450012  0.164936   0.164018     True\n",
       "2130 2023-06-21  259.459991  0.169992   0.164018     True\n",
       "2131 2023-06-22  264.609985  0.172019   0.164018     True\n",
       "2132 2023-06-23  256.600006  0.172074   0.164018     True\n",
       "2133 2023-06-26  241.050003  0.169002   0.164018     True\n",
       "2396 2024-07-12  248.229996  0.165481   0.164018     True\n",
       "2397 2024-07-15  252.639999  0.166584   0.164018     True\n",
       "2398 2024-07-16  256.559998  0.164278   0.164018     True\n",
       "2486 2024-11-18  338.739990  0.165814   0.164018     True\n",
       "2487 2024-11-19  346.000000  0.167796   0.164018     True\n",
       "2488 2024-11-20  342.029999  0.169614   0.164018     True\n",
       "2489 2024-11-21  339.640015  0.169223   0.164018     True\n",
       "2490 2024-11-22  352.559998  0.166503   0.164018     True\n",
       "2491 2024-11-25  338.589996  0.164701   0.164018     True\n",
       "2502 2024-12-11  424.769989  0.171920   0.164018     True\n",
       "2503 2024-12-12  418.100006  0.185854   0.164018     True\n",
       "2504 2024-12-13  436.230011  0.197147   0.164018     True\n",
       "2505 2024-12-16  463.019989  0.208478   0.164018     True\n",
       "2506 2024-12-17  479.859985  0.223339   0.164018     True\n",
       "2507 2024-12-18  440.130005  0.239548   0.164018     True\n",
       "2508 2024-12-19  436.170013  0.246546   0.164018     True\n",
       "2509 2024-12-20  421.059998  0.245722   0.164018     True\n",
       "2510 2024-12-23  430.600006  0.236731   0.164018     True\n",
       "2511 2024-12-24  462.279999  0.223244   0.164018     True\n",
       "2512 2024-12-26  454.130005  0.214105   0.164018     True\n",
       "2513 2024-12-27  431.660004  0.205856   0.164018     True\n",
       "2514 2024-12-30  417.410004  0.195279   0.164018     True\n",
       "2515 2024-12-31  403.839996  0.182537   0.164018     True\n",
       "2516 2025-01-02  379.279999  0.168700   0.164018     True\n",
       "2555 2025-03-03  284.649994  0.173543   0.164018     True\n",
       "2556 2025-03-04  272.040009  0.182528   0.164018     True\n",
       "2557 2025-03-05  279.100006  0.190051   0.164018     True\n",
       "2558 2025-03-06  263.450012  0.195589   0.164018     True\n",
       "2559 2025-03-07  262.670013  0.200407   0.164018     True"
      ]
     },
     "execution_count": 131,
     "metadata": {},
     "output_type": "execute_result"
    }
   ],
   "source": [
    "# Extract the prices and dates with anomalies identified\n",
    "anomalies = test_anomaly.loc[test_anomaly['Anomaly'] == True]\n",
    "anomalies"
   ]
  },
  {
   "cell_type": "code",
   "execution_count": 132,
   "id": "ef95756b-e67e-4121-85d2-03390ed85a1b",
   "metadata": {},
   "outputs": [
    {
     "data": {
      "image/png": "[encoded data removed]",
      "text/plain": [
       "<Figure size 1600x500 with 1 Axes>"
      ]
     },
     "metadata": {},
     "output_type": "display_data"
    }
   ],
   "source": [
    "# Plot the line chart of the closing prices with discrete dots\n",
    "plt.figure(figsize=(16, 5)) \n",
    "\n",
    "# Plot the main data points as discrete dots\n",
    "plt.plot(df_prices['Date'], df_prices[\"Close\"], marker='', color='b', linestyle='-', label='Closing Prices')\n",
    "\n",
    "# Plot the anomalies as red dots\n",
    "plt.plot(anomalies['Date'], anomalies[\"Close\"], marker='o', color='r', linestyle='', label='Anomalies')\n",
    "\n",
    "# Labels and title\n",
    "plt.xlabel(\"Date\")\n",
    "plt.ylabel(\"Closing Price ($)\")\n",
    "plt.title(\"Anomalies Detection in \" + ticker[0] + \" Stock Prices\", size=15)\n",
    "\n",
    "plt.grid(True)\n",
    "plt.legend()\n",
    "plt.show()"
   ]
  },
  {
   "cell_type": "markdown",
   "id": "d8cda0f9-bcfb-48aa-888d-dea185b9c6da",
   "metadata": {},
   "source": [
    "### **(6) Model Evaluation**"
   ]
  },
  {
   "cell_type": "code",
   "execution_count": 133,
   "id": "d520c26c-1389-4318-8acf-5aef6ba7bfe8",
   "metadata": {},
   "outputs": [
    {
     "data": {
      "image/png": "[encoded data removed]",
      "text/plain": [
       "<Figure size 640x480 with 1 Axes>"
      ]
     },
     "metadata": {},
     "output_type": "display_data"
    }
   ],
   "source": [
    "# Plot the graphs of training loss and validation loss\n",
    "# Both curves show a steady decline in loss and coverage to the min, a sign of good generalization of the LSTM model\n",
    "plt.plot(history.history['loss'], label='Training Loss')\n",
    "plt.plot(history.history['val_loss'], label='Validation Loss')\n",
    "plt.xlabel('Epochs')\n",
    "plt.ylabel('Loss')\n",
    "plt.legend()\n",
    "plt.show()"
   ]
  },
  {
   "cell_type": "code",
   "execution_count": 134,
   "id": "28d6743f-2e00-4490-ad19-ff3bc6f4f1ed",
   "metadata": {},
   "outputs": [
    {
     "name": "stdout",
     "output_type": "stream",
     "text": [
      "Mean Absolute Error (MAE): 0.03914050565799119\n",
      "Root Mean Squared Error (RMSE): 0.04634700157896303\n"
     ]
    }
   ],
   "source": [
    "# Calculate the MAE and RMSE of the predicted values of the test dataset\n",
    "from sklearn.metrics import mean_absolute_error, mean_squared_error\n",
    "\n",
    "mae = mean_absolute_error(predicted_test.reshape(-1), y_test.reshape(-1)) # flatten the arrays for calculations\n",
    "print(\"Mean Absolute Error (MAE):\", mae)\n",
    "\n",
    "rmse = np.sqrt(mean_squared_error(predicted_test.reshape(-1), y_test.reshape(-1)))\n",
    "print(\"Root Mean Squared Error (RMSE):\", rmse)"
   ]
  },
  {
   "cell_type": "markdown",
   "id": "37252541-d7fd-402b-8efa-f0834e4b8aa7",
   "metadata": {},
   "source": [
    "**Conclusion: The model is well-trained with great generalization, proven by:**\n",
    "- the training and validation loss curves which decrease smoothly and converge near zero, and\n",
    "- the low MAE and RMSE, indicating that the model makes small prediction errors"
   ]
  },
  {
   "cell_type": "markdown",
   "id": "cef701a1-f14c-4193-ae53-4076b6bf4e54",
   "metadata": {},
   "source": [
    "### **(7) Insights**"
   ]
  },
  {
   "cell_type": "markdown",
   "id": "7b32b8f2-f8b8-4fb2-8dc0-0a97b68cf297",
   "metadata": {},
   "source": [
    "\n",
    "Here are the anomalies found by the model, which are in-line with the actual price movement during the same period.\n"
   ]
  },
  {
   "cell_type": "markdown",
   "id": "b14acd37-9f69-4ce7-9e08-6919334d3156",
   "metadata": {},
   "source": [
    "**Jun-Jul 2023**: TSLA shares surged by nearly 30% month-on-month in June 2023, on the back of AI and EV (Electric Vehicle) market growth and its strong deliveries."
   ]
  },
  {
   "cell_type": "markdown",
   "id": "55421e37-e43d-4f4e-905f-9780275218d3",
   "metadata": {},
   "source": [
    "**Nov 2024**: Share prices surged on optimism of Donald Trump's election victory."
   ]
  },
  {
   "cell_type": "markdown",
   "id": "9304fe3a-dafe-4f7a-bda6-6d1b2842af50",
   "metadata": {},
   "source": [
    "**Dec 2024**: After TSLA shares reached its all-time high on 17th Decemeber 2024, the shares plunged, due to weak market sentiment on trade tariffs by the US as well as TESLA's declining sales data."
   ]
  },
  {
   "cell_type": "markdown",
   "id": "bbbcd352-cd3c-41e0-b018-8257d92b15b6",
   "metadata": {},
   "source": [
    "**Mar 2025**: Shares extended further losses, amid market concerns over Elon Musk’s involvement with the Trump administration as well as the falling new vehicle sales."
   ]
  },
  {
   "cell_type": "markdown",
   "id": "e47066d2-d60a-48a3-91eb-2c3bfd8fe080",
   "metadata": {},
   "source": [
    "**By identifying anomalies in the stock prices, traders may profit from the temporary price discrepancies due to arbitrage.**"
   ]
  },
  {
   "cell_type": "code",
   "execution_count": null,
   "id": "b6a67f44-e45f-4b45-bdc3-4dbf4423bf67",
   "metadata": {},
   "outputs": [],
   "source": []
  }
 ],
 "metadata": {
  "kernelspec": {
   "display_name": "Python 3 (ipykernel)",
   "language": "python",
   "name": "python3"
  },
  "language_info": {
   "codemirror_mode": {
    "name": "ipython",
    "version": 3
   },
   "file_extension": ".py",
   "mimetype": "text/x-python",
   "name": "python",
   "nbconvert_exporter": "python",
   "pygments_lexer": "ipython3",
   "version": "3.12.3"
  }
 },
 "nbformat": 4,
 "nbformat_minor": 5
}
